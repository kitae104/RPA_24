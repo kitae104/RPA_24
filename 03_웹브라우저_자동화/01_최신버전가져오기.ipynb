{
 "cells": [
  {
   "cell_type": "code",
   "execution_count": 4,
   "metadata": {},
   "outputs": [
    {
     "name": "stdout",
     "output_type": "stream",
     "text": [
      "Collecting webdriver_manager\n",
      "  Downloading webdriver_manager-4.0.2-py2.py3-none-any.whl.metadata (12 kB)\n",
      "Requirement already satisfied: requests in d:\\github\\rpa_ws\\rpa_23\\rpaenv\\lib\\site-packages (from webdriver_manager) (2.32.3)\n",
      "Collecting python-dotenv (from webdriver_manager)\n",
      "  Using cached python_dotenv-1.0.1-py3-none-any.whl.metadata (23 kB)\n",
      "Requirement already satisfied: packaging in d:\\github\\rpa_ws\\rpa_23\\rpaenv\\lib\\site-packages (from webdriver_manager) (24.1)\n",
      "Requirement already satisfied: charset-normalizer<4,>=2 in d:\\github\\rpa_ws\\rpa_23\\rpaenv\\lib\\site-packages (from requests->webdriver_manager) (3.3.2)\n",
      "Requirement already satisfied: idna<4,>=2.5 in d:\\github\\rpa_ws\\rpa_23\\rpaenv\\lib\\site-packages (from requests->webdriver_manager) (3.8)\n",
      "Requirement already satisfied: urllib3<3,>=1.21.1 in d:\\github\\rpa_ws\\rpa_23\\rpaenv\\lib\\site-packages (from requests->webdriver_manager) (2.2.2)\n",
      "Requirement already satisfied: certifi>=2017.4.17 in d:\\github\\rpa_ws\\rpa_23\\rpaenv\\lib\\site-packages (from requests->webdriver_manager) (2024.8.30)\n",
      "Downloading webdriver_manager-4.0.2-py2.py3-none-any.whl (27 kB)\n",
      "Using cached python_dotenv-1.0.1-py3-none-any.whl (19 kB)\n",
      "Installing collected packages: python-dotenv, webdriver_manager\n",
      "Successfully installed python-dotenv-1.0.1 webdriver_manager-4.0.2\n"
     ]
    }
   ],
   "source": [
    "! pip install webdriver_manager"
   ]
  },
  {
   "cell_type": "code",
   "execution_count": 1,
   "metadata": {},
   "outputs": [],
   "source": [
    "from selenium import webdriver\n",
    "from selenium.webdriver.chrome.service import Service\n",
    "from selenium.webdriver.chrome.options import Options\n",
    "from selenium.webdriver.common.keys import Keys\n",
    "from selenium.webdriver.common.by import By\n",
    "from webdriver_manager.chrome import ChromeDriverManager\n",
    "import time\n",
    "import requests"
   ]
  },
  {
   "cell_type": "code",
   "execution_count": 3,
   "metadata": {},
   "outputs": [
    {
     "name": "stdout",
     "output_type": "stream",
     "text": [
      "114.0.5735.90\n",
      "NAVER\n"
     ]
    }
   ],
   "source": [
    "# 해당 path에 최신 릴리즈 버전의 구글 드라이버 버전이 존재\n",
    "release = \"https://chromedriver.storage.googleapis.com/LATEST_RELEASE\"\n",
    "# 버전명을 가져옵니다.\n",
    "version = requests.get(release).text\n",
    "print(version)\n",
    "# ChromeDriverManager 에 해당 버전을 넣어줌\n",
    "driver = webdriver.Chrome(service=Service(ChromeDriverManager().install()))\n",
    "driver.get('https://www.naver.com/') # 사이트 연결하기\n",
    "print(driver.title)     # 타이틀 읽어오기\n",
    "time.sleep(1)        "
   ]
  }
 ],
 "metadata": {
  "kernelspec": {
   "display_name": "Python 3.11.1 64-bit",
   "language": "python",
   "name": "python3"
  },
  "language_info": {
   "codemirror_mode": {
    "name": "ipython",
    "version": 3
   },
   "file_extension": ".py",
   "mimetype": "text/x-python",
   "name": "python",
   "nbconvert_exporter": "python",
   "pygments_lexer": "ipython3",
   "version": "3.12.2"
  },
  "orig_nbformat": 4,
  "vscode": {
   "interpreter": {
    "hash": "81eef19b52451e11e3f8bf6bc518dd5f147d5a651198624c9c211c83ec7c4923"
   }
  }
 },
 "nbformat": 4,
 "nbformat_minor": 2
}
