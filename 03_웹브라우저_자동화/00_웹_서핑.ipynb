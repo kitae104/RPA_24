{
 "cells": [
  {
   "cell_type": "code",
   "execution_count": 1,
   "metadata": {},
   "outputs": [],
   "source": [
    "from selenium import webdriver\n",
    "from selenium.webdriver.chrome.service import Service\n",
    "from selenium.webdriver.chrome.options import Options\n",
    "from selenium.webdriver.common.keys import Keys\n",
    "from selenium.webdriver.common.by import By\n",
    "from webdriver_manager.chrome import ChromeDriverManager\n",
    "import time"
   ]
  },
  {
   "cell_type": "code",
   "execution_count": 2,
   "metadata": {},
   "outputs": [],
   "source": [
    "options = Options()\n",
    "options.add_experimental_option(\"detach\", True)\n",
    "service = Service(ChromeDriverManager().install())\n",
    "driver = webdriver.Chrome(service=service, options=options)"
   ]
  },
  {
   "cell_type": "code",
   "execution_count": 3,
   "metadata": {},
   "outputs": [
    {
     "name": "stdout",
     "output_type": "stream",
     "text": [
      "NAVER\n"
     ]
    }
   ],
   "source": [
    "driver.get('https://www.naver.com/') # 사이트 연결하기\n",
    "print(driver.title)     # 타이틀 읽어오기\n",
    "time.sleep(1)           # 3초 대기하기"
   ]
  },
  {
   "cell_type": "markdown",
   "metadata": {},
   "source": [
    "검색창 사용하기 \n",
    "\n",
    "<input id=\"query\" name=\"query\" type=\"search\" title=\"검색어 입력\" maxlength=\"255\" class=\"input_text\" tabindex=\"1\" accesskey=\"s\" style=\"ime-mode:active;\" autocomplete=\"off\" placeholder=\"검색어를 입력해 주세요.\" onclick=\"document.getElementById('fbm').value=1;\" value=\"\" data-atcmp-element=\"\">"
   ]
  },
  {
   "cell_type": "code",
   "execution_count": 7,
   "metadata": {},
   "outputs": [],
   "source": [
    "driver.find_element(By.CLASS_NAME, \"search_input\").send_keys(\"파이썬\") # 검색창에 키워드 입력하기"
   ]
  },
  {
   "cell_type": "code",
   "execution_count": 7,
   "metadata": {},
   "outputs": [],
   "source": [
    "driver.find_element(By.ID, \"query\").send_keys(\"뉴진스\") # 검색창에 키워드 입력하기\n",
    "time.sleep(1)\n",
    "driver.find_element(By.NAME, \"query\").send_keys(\"인하공전\") # 검색창에 키워드 입력하기"
   ]
  },
  {
   "cell_type": "code",
   "execution_count": 8,
   "metadata": {},
   "outputs": [],
   "source": [
    "driver.find_element(By.CSS_SELECTOR, \"#query\").send_keys(\"RPA\") # 검색창에 키워드 입력하기"
   ]
  },
  {
   "cell_type": "code",
   "execution_count": 8,
   "metadata": {},
   "outputs": [],
   "source": [
    "driver.find_element(By.XPATH, '//*[@id=\"query\"]').send_keys(\"RPA\") # 검색창에 키워드 입력하기"
   ]
  },
  {
   "cell_type": "markdown",
   "metadata": {},
   "source": [
    "링크 클릭하기 "
   ]
  },
  {
   "cell_type": "code",
   "execution_count": 8,
   "metadata": {},
   "outputs": [],
   "source": [
    "driver.find_element(By.LINK_TEXT, \"쇼핑\").click() # 쇼핑LIVE 클릭하기"
   ]
  },
  {
   "cell_type": "code",
   "execution_count": 9,
   "metadata": {},
   "outputs": [],
   "source": [
    "driver.find_element(By.PARTIAL_LINK_TEXT, \"뉴스\").click() # 일부만 있는 경우 사용 "
   ]
  },
  {
   "cell_type": "markdown",
   "metadata": {},
   "source": [
    "여러 정보 가져오기 "
   ]
  },
  {
   "cell_type": "code",
   "execution_count": 10,
   "metadata": {},
   "outputs": [
    {
     "name": "stdout",
     "output_type": "stream",
     "text": [
      "메일\n",
      "카페\n",
      "블로그\n",
      "쇼핑\n",
      "뉴스\n",
      "증권\n",
      "부동산\n",
      "지도\n",
      "웹툰\n",
      "치지직\n",
      "FC온라인\n"
     ]
    }
   ],
   "source": [
    "#navs = driver.find_elements(By.CLASS_NAME, \".nav\") # 네이버 메뉴 읽어오기\n",
    "navs = driver.find_elements(By.CLASS_NAME, \"service_name\") # 네이버 메뉴 읽어오기\n",
    "for nav in navs:\n",
    "    print(nav.text)"
   ]
  },
  {
   "cell_type": "markdown",
   "metadata": {},
   "source": [
    "뉴스\n",
    "#shortcutArea > ul > li:nth-child(5) > a\n",
    "//*[@id=\"shortcutArea\"]/ul/li[5]/a\n",
    "/html/body/div[2]/div[1]/div/div[6]/ul/li[5]/a"
   ]
  },
  {
   "cell_type": "code",
   "execution_count": 14,
   "metadata": {},
   "outputs": [
    {
     "name": "stdout",
     "output_type": "stream",
     "text": [
      "[<selenium.webdriver.remote.webelement.WebElement (session=\"d5826d0ba8ef82142c2eddd060cffda5\", element=\"f.BF7B186FED6DB4635308096F50F50E2E.d.AD4C7A6EEF08310DF4A09E9A2304647D.e.28035\")>]\n"
     ]
    }
   ],
   "source": [
    "elem = driver.find_elements(By.XPATH, '/html/body/div[2]/div[1]/div/div[6]/ul/li[5]/a')\n",
    "print(elem)\n",
    "elem[0].click()"
   ]
  },
  {
   "cell_type": "markdown",
   "metadata": {},
   "source": [
    "검색창\n",
    "/html/body/section/header/div[1]/div/div/div[2]/div[3]/a/span"
   ]
  },
  {
   "cell_type": "code",
   "execution_count": 12,
   "metadata": {},
   "outputs": [
    {
     "name": "stdout",
     "output_type": "stream",
     "text": [
      "[]\n"
     ]
    }
   ],
   "source": [
    "elem = driver.find_elements(By.XPATH, '/html/body/section/header/div[1]/div/div/div[2]/div[3]/a/span')\n",
    "print(elem)\n",
    "#elem[0].click()"
   ]
  },
  {
   "cell_type": "code",
   "execution_count": 15,
   "metadata": {},
   "outputs": [
    {
     "name": "stdout",
     "output_type": "stream",
     "text": [
      "<selenium.webdriver.remote.webelement.WebElement (session=\"d5826d0ba8ef82142c2eddd060cffda5\", element=\"f.BF7B186FED6DB4635308096F50F50E2E.d.AD4C7A6EEF08310DF4A09E9A2304647D.e.25908\")>\n"
     ]
    }
   ],
   "source": [
    "elem = driver.find_element(By.NAME, 'query')\n",
    "print(elem)"
   ]
  },
  {
   "cell_type": "markdown",
   "metadata": {},
   "source": [
    "get_attribute() : 요소가 갖는 속성값 확인 "
   ]
  },
  {
   "cell_type": "code",
   "execution_count": 16,
   "metadata": {},
   "outputs": [
    {
     "name": "stdout",
     "output_type": "stream",
     "text": [
      "query query search_input\n"
     ]
    }
   ],
   "source": [
    "# 각각의 속성 값 가져오기\n",
    "print(elem.get_attribute('id'), elem.get_attribute('name'), elem.get_attribute('class'))"
   ]
  },
  {
   "cell_type": "code",
   "execution_count": 17,
   "metadata": {},
   "outputs": [
    {
     "name": "stdout",
     "output_type": "stream",
     "text": [
      "input\n"
     ]
    }
   ],
   "source": [
    "# 태그 이름 확인하기 \n",
    "print(elem.tag_name)"
   ]
  },
  {
   "cell_type": "code",
   "execution_count": 18,
   "metadata": {},
   "outputs": [],
   "source": [
    "elem.send_keys(\"인하공전\" + Keys.RETURN)   # 텍스트 입력 후 클릭"
   ]
  }
 ],
 "metadata": {
  "kernelspec": {
   "display_name": "Python 3.11.1 64-bit",
   "language": "python",
   "name": "python3"
  },
  "language_info": {
   "codemirror_mode": {
    "name": "ipython",
    "version": 3
   },
   "file_extension": ".py",
   "mimetype": "text/x-python",
   "name": "python",
   "nbconvert_exporter": "python",
   "pygments_lexer": "ipython3",
   "version": "3.12.2"
  },
  "orig_nbformat": 4,
  "vscode": {
   "interpreter": {
    "hash": "81eef19b52451e11e3f8bf6bc518dd5f147d5a651198624c9c211c83ec7c4923"
   }
  }
 },
 "nbformat": 4,
 "nbformat_minor": 2
}
