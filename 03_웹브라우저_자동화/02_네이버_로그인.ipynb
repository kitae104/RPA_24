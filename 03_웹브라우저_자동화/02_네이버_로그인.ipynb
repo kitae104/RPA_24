{
 "cells": [
  {
   "cell_type": "code",
   "execution_count": 3,
   "metadata": {},
   "outputs": [],
   "source": [
    "from selenium import webdriver\n",
    "import time\n",
    "from selenium.webdriver.common.by import By\n",
    "from webdriver_manager.chrome import ChromeDriverManager\n",
    "from selenium.webdriver.chrome.service import Service\n",
    "import pyperclip\n",
    "import pyautogui\n",
    "\n",
    "chrome_options = webdriver.ChromeOptions()\n",
    "driver = webdriver.Chrome(service=Service(ChromeDriverManager().install()))\n",
    "driver.get(url=\"https://www.naver.com/\")\n",
    "time.sleep(1)\n",
    "\n",
    "ico_naver = driver.find_element(By.CLASS_NAME,'MyView-module__link_login___HpHMW')\n",
    "ico_naver.click()\n",
    "time.sleep(1)\n",
    "\n",
    "naver_id = driver.find_element(By.CLASS_NAME,'input_id')\n",
    "naver_id.click()\n",
    "pyperclip.copy(\"아이디\")\n",
    "pyautogui.hotkey(\"ctrl\",\"v\")\n",
    "time.sleep(1)\n",
    "\n",
    "pyautogui.press('tab')\n",
    "pyperclip.copy(\"패스워드\")\n",
    "pyautogui.hotkey(\"ctrl\",\"v\")\n",
    "\n",
    "naver_ok = driver.find_element(By.CLASS_NAME,'btn_login_wrap')\n",
    "naver_ok.click()\n"
   ]
  }
 ],
 "metadata": {
  "kernelspec": {
   "display_name": "Python 3",
   "language": "python",
   "name": "python3"
  },
  "language_info": {
   "codemirror_mode": {
    "name": "ipython",
    "version": 3
   },
   "file_extension": ".py",
   "mimetype": "text/x-python",
   "name": "python",
   "nbconvert_exporter": "python",
   "pygments_lexer": "ipython3",
   "version": "3.12.2"
  }
 },
 "nbformat": 4,
 "nbformat_minor": 2
}
