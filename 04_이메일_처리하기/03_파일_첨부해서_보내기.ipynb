{
 "cells": [
  {
   "cell_type": "code",
   "execution_count": 1,
   "metadata": {},
   "outputs": [],
   "source": [
    "import openpyxl\n",
    "import smtplib\n",
    "from email.mime.text import MIMEText\n",
    "from email.mime.multipart import MIMEMultipart\n",
    "from email.mime.application import MIMEApplication # 파일첨부를 위한 모듈\n",
    "\n",
    "import os\n",
    "\n",
    "password = os.environ.get('EMAIL_PASSWORD') \n",
    "\n",
    "# 이메일 설정\n",
    "your_email_address = \"kktpsh@naver.com\"  # 본인의 이메일 주소\n",
    "your_email_password = 'password'  # 본인의 이메일 비밀번호\n",
    "smtp_server = \"smtp.naver.com\"  # SMTP 서버 주소\n",
    "smtp_port = 587  # SMTP 서버 포트 번호\n",
    "\n",
    "# 엑셀 파일 열기\n",
    "wb = openpyxl.load_workbook('./이메일.xlsx')\n",
    "sheet = wb.active\n",
    "\n",
    "# 각 행의 이메일과 이름에 대해 메일 보내기\n",
    "for row in sheet.iter_rows(min_row=2, values_only=True):  # 첫 번째 행은 제외\n",
    "    email, name = row\n",
    "\n",
    "    # 이메일 내용 작성\n",
    "    subject = f\"{name}님 환영합니다.\"\n",
    "    body = f\"{name}님 늦지 않게 와주세요.\"\n",
    "    text = \"\"\"\n",
    "첨부파일 메일 테스트 내용 입니다.\n",
    "감사합니다.\n",
    "\"\"\"\n",
    "    body += text\n",
    "    message = MIMEMultipart()\n",
    "    message['From'] = your_email_address\n",
    "    message['To'] = email\n",
    "    message['Subject'] = subject\n",
    "    message.attach(MIMEText(body, 'plain'))\n",
    "\n",
    "    # 파일 첨부하기 (여러 파일 첨부하기 위해 반복문 사용 - 추가하기) \n",
    "    etc_file_path = r'./이메일.xlsx'\n",
    "    with open(etc_file_path, 'rb') as f : \n",
    "        etc_part = MIMEApplication( f.read() )\n",
    "        etc_part.add_header('Content-Disposition','attachment', filename=\"이메일.xlsx\")\n",
    "        message.attach(etc_part)\n",
    "\n",
    "    # 이메일 보내기\n",
    "    with smtplib.SMTP(smtp_server, smtp_port) as smtp:\n",
    "        smtp.ehlo()\n",
    "        smtp.starttls()\n",
    "        smtp.login(your_email_address, your_email_password)\n",
    "        smtp.sendmail(your_email_address, email, message.as_string())\n",
    "\n",
    "# 엑셀 파일 닫기\n",
    "wb.close()"
   ]
  }
 ],
 "metadata": {
  "kernelspec": {
   "display_name": "Python 3",
   "language": "python",
   "name": "python3"
  },
  "language_info": {
   "codemirror_mode": {
    "name": "ipython",
    "version": 3
   },
   "file_extension": ".py",
   "mimetype": "text/x-python",
   "name": "python",
   "nbconvert_exporter": "python",
   "pygments_lexer": "ipython3",
   "version": "3.12.2"
  }
 },
 "nbformat": 4,
 "nbformat_minor": 2
}
