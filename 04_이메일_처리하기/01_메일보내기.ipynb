{
 "cells": [
  {
   "cell_type": "code",
   "execution_count": 1,
   "metadata": {},
   "outputs": [],
   "source": [
    "import smtplib\n",
    "from email.mime.text import MIMEText\n",
    "from email.header import Header"
   ]
  },
  {
   "cell_type": "markdown",
   "metadata": {},
   "source": [
    "숨겨야 하는 값은 환경변수에 값을 설정하고 가져와야 한다."
   ]
  },
  {
   "cell_type": "code",
   "execution_count": 6,
   "metadata": {},
   "outputs": [],
   "source": [
    "import os\n",
    "# 네이버 ID 설정 및 2단계 인증관리 처리하기\n",
    "password = os.environ.get('EMAIL_PASSWORD') \n"
   ]
  },
  {
   "cell_type": "code",
   "execution_count": 3,
   "metadata": {},
   "outputs": [
    {
     "data": {
      "text/plain": [
       "(235, b'2.7.0 Accepted sqGnx0ZfRUScVzdgbBOH+A - nsmtp')"
      ]
     },
     "execution_count": 3,
     "metadata": {},
     "output_type": "execute_result"
    }
   ],
   "source": [
    "# 로그인 \n",
    "smtp = smtplib.SMTP('smtp.naver.com', 587)\n",
    "smtp.ehlo()       # Extended Helo - 클라이언트가 서버와 대화하겠다는 인사 \n",
    "smtp.starttls()   # 보안을 위한 암호화 단계\n",
    "smtp.login('kktpsh', password)    # 최근 2단계 인증 필요!!!"
   ]
  },
  {
   "cell_type": "code",
   "execution_count": 4,
   "metadata": {},
   "outputs": [],
   "source": [
    "# 보낼 자료 준비 \n",
    "me = 'kktpsh@naver.com'     # 보내는 사람 \n",
    "you = 'kktpsh@naver.com'    # 받는 사람 \n",
    "subject = '제목..'\n",
    "message = '본문 내용..'\n",
    "\n",
    "msg = MIMEText(message.encode('utf-8'), _subtype='plain', _charset='utf-8')  # 서브타입을 html 변경 가능\n",
    "msg['Subject'] = Header(subject.encode('utf-8'), 'utf-8')\n",
    "msg['From'] = me\n",
    "msg['To'] = you"
   ]
  },
  {
   "cell_type": "code",
   "execution_count": 5,
   "metadata": {},
   "outputs": [
    {
     "data": {
      "text/plain": [
       "(221, b'2.0.0 Closing connection sqGnx0ZfRUScVzdgbBOH+A - nsmtp')"
      ]
     },
     "execution_count": 5,
     "metadata": {},
     "output_type": "execute_result"
    }
   ],
   "source": [
    "# 메일 보내기 \n",
    "smtp.sendmail(me, you, msg.as_string())\n",
    "smtp.quit()"
   ]
  }
 ],
 "metadata": {
  "kernelspec": {
   "display_name": "Python 3.11.1 64-bit",
   "language": "python",
   "name": "python3"
  },
  "language_info": {
   "codemirror_mode": {
    "name": "ipython",
    "version": 3
   },
   "file_extension": ".py",
   "mimetype": "text/x-python",
   "name": "python",
   "nbconvert_exporter": "python",
   "pygments_lexer": "ipython3",
   "version": "3.12.2"
  },
  "orig_nbformat": 4,
  "vscode": {
   "interpreter": {
    "hash": "81eef19b52451e11e3f8bf6bc518dd5f147d5a651198624c9c211c83ec7c4923"
   }
  }
 },
 "nbformat": 4,
 "nbformat_minor": 2
}
