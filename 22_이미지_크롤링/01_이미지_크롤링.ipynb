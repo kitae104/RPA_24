{
 "cells": [
  {
   "attachments": {},
   "cell_type": "markdown",
   "metadata": {},
   "source": [
    "### 이미지 크롤링"
   ]
  },
  {
   "cell_type": "markdown",
   "metadata": {},
   "source": [
    "- 구글 이미지 검색 \n",
    "- 작은 이미지를 클릭하여 나온 큰 이미지를 저장하기 "
   ]
  },
  {
   "cell_type": "code",
   "execution_count": 1,
   "metadata": {},
   "outputs": [
    {
     "name": "stdout",
     "output_type": "stream",
     "text": [
      "114.0.5735.90\n"
     ]
    }
   ],
   "source": [
    "from selenium import webdriver\n",
    "from selenium.webdriver.chrome.service import Service\n",
    "from selenium.webdriver.chrome.options import Options\n",
    "from selenium.webdriver.common.by import By\n",
    "from webdriver_manager.chrome import ChromeDriverManager\n",
    "import os\n",
    "import time\n",
    "import urllib.request\n",
    "import requests\n",
    "\n",
    "\n",
    "# 웹 드라이버 서비스 생성\n",
    "# 해당 path에 최신 릴리즈 버전의 구글 드라이버 버전이 존재\n",
    "release = \"https://chromedriver.storage.googleapis.com/LATEST_RELEASE\"\n",
    "\n",
    "# 버전명을 가져옵니다.\n",
    "version = requests.get(release).text\n",
    "print(version)\n",
    "\n",
    "options = Options() # 크롬 옵션 객체 생성\n",
    "options.add_experimental_option(\"detach\", True) # 크롬 창을 종료해도 프로세스가 종료되지 않도록 설정\n",
    "options.add_experimental_option(\"excludeSwitches\", [\"enable-logging\"]) # 불필요한 에러 메시지 없애기\n",
    "service = Service(ChromeDriverManager().install())  # 크롬 드라이버 경로 설정\n",
    "driver = webdriver.Chrome(service=service, options=options) # 크롬 드라이버 객체 생성\n",
    "\n",
    "\n",
    "# # 웹페이지 해당 주소 이동\n",
    "#driver.get(\"https://www.naver.com\")"
   ]
  },
  {
   "cell_type": "code",
   "execution_count": 3,
   "metadata": {},
   "outputs": [
    {
     "name": "stdout",
     "output_type": "stream",
     "text": [
      "이미지 저장 실패: HTTP Error 403: Forbidden\n",
      "이미지 저장 실패: HTTP Error 403: Forbidden\n",
      "이미지 저장 완료: images/뉴진스_3.jpg\n",
      "이미지 저장 실패: HTTP Error 403: Forbidden\n",
      "이미지 저장 완료: images/뉴진스_5.jpg\n",
      "이미지 저장 완료: images/뉴진스_6.jpg\n",
      "이미지 저장 완료: images/뉴진스_7.jpg\n",
      "이미지 저장 완료: images/뉴진스_8.jpg\n",
      "이미지 저장 완료: images/뉴진스_9.jpg\n",
      "이미지 저장 완료: images/뉴진스_10.jpg\n"
     ]
    }
   ],
   "source": [
    "# 검색할 키워드\n",
    "search_keyword = 'blackpink' #input(\"어떤 이미지를 검색할까요? \") \n",
    "\n",
    "# 이미지 저장 폴더 경로\n",
    "save_directory = 'images/'\n",
    "\n",
    "# images 폴더가 없을 경우 폴더 생성\n",
    "if not os.path.exists(save_directory):\n",
    "    os.makedirs(save_directory)\n",
    "\n",
    "# 웹 드라이버 실행\n",
    "driver = webdriver.Chrome(service=service)\n",
    "\n",
    "# Google 이미지 검색 페이지 열기\n",
    "driver.get(\"https://www.google.co.kr/search?q=\" + search_keyword + \"&tbm=isch\")\n",
    "\n",
    "# 이미지 로딩을 위해 잠시 대기\n",
    "time.sleep(2)\n",
    "\n",
    "# 이미지 클릭하고 큰 이미지 저장하기\n",
    "images = driver.find_elements(By.CLASS_NAME, \"H8Rx8c\")\n",
    "for i, image in enumerate(images):\n",
    "    if i == 10:\n",
    "        break\n",
    "      \n",
    "    try:\n",
    "        # 이미지 클릭\n",
    "        driver.execute_script(\"arguments[0].click();\", image)\n",
    "        \n",
    "        # 이미지 로딩을 위해 잠시 대기\n",
    "        time.sleep(2)\n",
    "        \n",
    "        # 큰 이미지 정보 가져오기     \n",
    "        big_image = driver.find_element(By.CSS_SELECTOR, \"img.sFlh5c.FyHeAf.iPVvYb\")\n",
    "        image_url = big_image.get_attribute(\"src\")\n",
    "        \n",
    "        # 이미지 저장\n",
    "        file_name = save_directory + f\"{search_keyword}_{i+1}.jpg\"\n",
    "        urllib.request.urlretrieve(image_url, file_name)\n",
    "        print(f\"이미지 저장 완료: {file_name}\")\n",
    "        \n",
    "        # 뒤로 가기\n",
    "        driver.execute_script(\"window.history.go(-1)\")\n",
    "        \n",
    "        # 이미지 로딩을 위해 잠시 대기\n",
    "        time.sleep(2)\n",
    "    except Exception as e:\n",
    "        print(f\"이미지 저장 실패: {e}\")\n",
    "\n",
    "# 웹 드라이버 종료\n",
    "driver.quit()\n"
   ]
  }
 ],
 "metadata": {
  "kernelspec": {
   "display_name": "Python 3.11.1 64-bit",
   "language": "python",
   "name": "python3"
  },
  "language_info": {
   "codemirror_mode": {
    "name": "ipython",
    "version": 3
   },
   "file_extension": ".py",
   "mimetype": "text/x-python",
   "name": "python",
   "nbconvert_exporter": "python",
   "pygments_lexer": "ipython3",
   "version": "3.12.2"
  },
  "orig_nbformat": 4,
  "vscode": {
   "interpreter": {
    "hash": "81eef19b52451e11e3f8bf6bc518dd5f147d5a651198624c9c211c83ec7c4923"
   }
  }
 },
 "nbformat": 4,
 "nbformat_minor": 2
}
