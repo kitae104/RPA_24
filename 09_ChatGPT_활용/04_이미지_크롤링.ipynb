{
 "cells": [
  {
   "attachments": {},
   "cell_type": "markdown",
   "metadata": {},
   "source": [
    "### 이미지 크롤링"
   ]
  },
  {
   "attachments": {},
   "cell_type": "markdown",
   "metadata": {},
   "source": [
    "- https://github.com/joedockrill/jmd_imagescraper\n",
    "- 검색 사이트 : https://duckduckgo.com/\n",
    "- pip install jmd_imagescraper\n",
    "- 사용법 보여주기\n"
   ]
  },
  {
   "attachments": {},
   "cell_type": "markdown",
   "metadata": {},
   "source": [
    "다음은 jmd_imagescraper 라이브러리의 사용법입니다.  \n",
    "\n",
    "from jmd_imagescraper.core import * # dont't worry, it's designed to work with import *\n",
    "from pathlib import Path\n",
    "\n",
    "root = Path().cwd()/\"images\"\n",
    "\n",
    "duckduckgo_search(root, \"Cats\", \"cute kittens\", max_results=20)\n",
    "\n",
    "\n",
    "jmd_imagescraper 라이브러리를 이용해서 bts라고 검색하면 나오는 이미지들을 저장하는 파이썬 코드를 작성해줘"
   ]
  },
  {
   "cell_type": "code",
   "execution_count": 2,
   "metadata": {},
   "outputs": [
    {
     "name": "stdout",
     "output_type": "stream",
     "text": [
      "Requirement already satisfied: jmd_imagescraper in c:\\python\\311\\lib\\site-packages (1.0.2)\n",
      "Requirement already satisfied: Pillow in c:\\python\\311\\lib\\site-packages (from jmd_imagescraper) (9.3.0)\n",
      "Requirement already satisfied: bs4 in c:\\python\\311\\lib\\site-packages (from jmd_imagescraper) (0.0.1)\n",
      "Requirement already satisfied: fastprogress in c:\\python\\311\\lib\\site-packages (from jmd_imagescraper) (1.0.3)\n",
      "Requirement already satisfied: ipywidgets in c:\\python\\311\\lib\\site-packages (from jmd_imagescraper) (8.0.2)\n",
      "Requirement already satisfied: pandas in c:\\python\\311\\lib\\site-packages (from jmd_imagescraper) (1.5.2)\n",
      "Requirement already satisfied: pathlib in c:\\python\\311\\lib\\site-packages (from jmd_imagescraper) (1.0.1)\n",
      "Requirement already satisfied: requests in c:\\python\\311\\lib\\site-packages (from jmd_imagescraper) (2.28.2)\n",
      "Requirement already satisfied: beautifulsoup4 in c:\\python\\311\\lib\\site-packages (from bs4->jmd_imagescraper) (4.11.1)\n",
      "Requirement already satisfied: ipykernel>=4.5.1 in c:\\python\\311\\lib\\site-packages (from ipywidgets->jmd_imagescraper) (6.17.1)\n",
      "Requirement already satisfied: ipython>=6.1.0 in c:\\python\\311\\lib\\site-packages (from ipywidgets->jmd_imagescraper) (8.6.0)\n",
      "Requirement already satisfied: traitlets>=4.3.1 in c:\\python\\311\\lib\\site-packages (from ipywidgets->jmd_imagescraper) (5.5.0)\n",
      "Requirement already satisfied: widgetsnbextension~=4.0 in c:\\python\\311\\lib\\site-packages (from ipywidgets->jmd_imagescraper) (4.0.3)\n",
      "Requirement already satisfied: jupyterlab-widgets~=3.0 in c:\\python\\311\\lib\\site-packages (from ipywidgets->jmd_imagescraper) (3.0.3)\n",
      "Requirement already satisfied: python-dateutil>=2.8.1 in c:\\python\\311\\lib\\site-packages (from pandas->jmd_imagescraper) (2.8.2)\n",
      "Requirement already satisfied: pytz>=2020.1 in c:\\python\\311\\lib\\site-packages (from pandas->jmd_imagescraper) (2022.7)\n",
      "Requirement already satisfied: numpy>=1.21.0 in c:\\python\\311\\lib\\site-packages (from pandas->jmd_imagescraper) (1.24.1)\n",
      "Requirement already satisfied: charset-normalizer<4,>=2 in c:\\python\\311\\lib\\site-packages (from requests->jmd_imagescraper) (3.1.0)\n",
      "Requirement already satisfied: idna<4,>=2.5 in c:\\python\\311\\lib\\site-packages (from requests->jmd_imagescraper) (3.4)\n",
      "Requirement already satisfied: urllib3<1.27,>=1.21.1 in c:\\python\\311\\lib\\site-packages (from requests->jmd_imagescraper) (1.26.14)\n",
      "Requirement already satisfied: certifi>=2017.4.17 in c:\\python\\311\\lib\\site-packages (from requests->jmd_imagescraper) (2022.12.7)\n",
      "Requirement already satisfied: debugpy>=1.0 in c:\\python\\311\\lib\\site-packages (from ipykernel>=4.5.1->ipywidgets->jmd_imagescraper) (1.6.3)\n",
      "Requirement already satisfied: jupyter-client>=6.1.12 in c:\\python\\311\\lib\\site-packages (from ipykernel>=4.5.1->ipywidgets->jmd_imagescraper) (7.4.5)\n",
      "Requirement already satisfied: matplotlib-inline>=0.1 in c:\\python\\311\\lib\\site-packages (from ipykernel>=4.5.1->ipywidgets->jmd_imagescraper) (0.1.6)\n",
      "Requirement already satisfied: nest-asyncio in c:\\python\\311\\lib\\site-packages (from ipykernel>=4.5.1->ipywidgets->jmd_imagescraper) (1.5.6)\n",
      "Requirement already satisfied: packaging in c:\\python\\311\\lib\\site-packages (from ipykernel>=4.5.1->ipywidgets->jmd_imagescraper) (23.0)\n",
      "Requirement already satisfied: psutil in c:\\python\\311\\lib\\site-packages (from ipykernel>=4.5.1->ipywidgets->jmd_imagescraper) (5.9.4)\n",
      "Requirement already satisfied: pyzmq>=17 in c:\\python\\311\\lib\\site-packages (from ipykernel>=4.5.1->ipywidgets->jmd_imagescraper) (24.0.1)\n",
      "Requirement already satisfied: tornado>=6.1 in c:\\python\\311\\lib\\site-packages (from ipykernel>=4.5.1->ipywidgets->jmd_imagescraper) (6.2)\n",
      "Requirement already satisfied: backcall in c:\\python\\311\\lib\\site-packages (from ipython>=6.1.0->ipywidgets->jmd_imagescraper) (0.2.0)\n",
      "Requirement already satisfied: decorator in c:\\python\\311\\lib\\site-packages (from ipython>=6.1.0->ipywidgets->jmd_imagescraper) (5.1.1)\n",
      "Requirement already satisfied: jedi>=0.16 in c:\\python\\311\\lib\\site-packages (from ipython>=6.1.0->ipywidgets->jmd_imagescraper) (0.18.1)\n",
      "Requirement already satisfied: pickleshare in c:\\python\\311\\lib\\site-packages (from ipython>=6.1.0->ipywidgets->jmd_imagescraper) (0.7.5)\n",
      "Requirement already satisfied: prompt-toolkit<3.1.0,>3.0.1 in c:\\python\\311\\lib\\site-packages (from ipython>=6.1.0->ipywidgets->jmd_imagescraper) (3.0.32)\n",
      "Requirement already satisfied: pygments>=2.4.0 in c:\\python\\311\\lib\\site-packages (from ipython>=6.1.0->ipywidgets->jmd_imagescraper) (2.13.0)\n",
      "Requirement already satisfied: stack-data in c:\\python\\311\\lib\\site-packages (from ipython>=6.1.0->ipywidgets->jmd_imagescraper) (0.6.1)\n",
      "Requirement already satisfied: colorama in c:\\python\\311\\lib\\site-packages (from ipython>=6.1.0->ipywidgets->jmd_imagescraper) (0.4.6)\n",
      "Requirement already satisfied: six>=1.5 in c:\\python\\311\\lib\\site-packages (from python-dateutil>=2.8.1->pandas->jmd_imagescraper) (1.16.0)\n",
      "Requirement already satisfied: soupsieve>1.2 in c:\\python\\311\\lib\\site-packages (from beautifulsoup4->bs4->jmd_imagescraper) (2.3.2.post1)\n",
      "Requirement already satisfied: parso<0.9.0,>=0.8.0 in c:\\python\\311\\lib\\site-packages (from jedi>=0.16->ipython>=6.1.0->ipywidgets->jmd_imagescraper) (0.8.3)\n",
      "Requirement already satisfied: entrypoints in c:\\python\\311\\lib\\site-packages (from jupyter-client>=6.1.12->ipykernel>=4.5.1->ipywidgets->jmd_imagescraper) (0.4)\n",
      "Requirement already satisfied: jupyter-core>=4.9.2 in c:\\python\\311\\lib\\site-packages (from jupyter-client>=6.1.12->ipykernel>=4.5.1->ipywidgets->jmd_imagescraper) (5.0.0)\n",
      "Requirement already satisfied: wcwidth in c:\\python\\311\\lib\\site-packages (from prompt-toolkit<3.1.0,>3.0.1->ipython>=6.1.0->ipywidgets->jmd_imagescraper) (0.2.5)\n",
      "Requirement already satisfied: executing>=1.2.0 in c:\\python\\311\\lib\\site-packages (from stack-data->ipython>=6.1.0->ipywidgets->jmd_imagescraper) (1.2.0)\n",
      "Requirement already satisfied: asttokens>=2.1.0 in c:\\python\\311\\lib\\site-packages (from stack-data->ipython>=6.1.0->ipywidgets->jmd_imagescraper) (2.1.0)\n",
      "Requirement already satisfied: pure-eval in c:\\python\\311\\lib\\site-packages (from stack-data->ipython>=6.1.0->ipywidgets->jmd_imagescraper) (0.2.2)\n",
      "Requirement already satisfied: platformdirs in c:\\python\\311\\lib\\site-packages (from jupyter-core>=4.9.2->jupyter-client>=6.1.12->ipykernel>=4.5.1->ipywidgets->jmd_imagescraper) (2.5.4)\n",
      "Requirement already satisfied: pywin32>=1.0 in c:\\python\\311\\lib\\site-packages (from jupyter-core>=4.9.2->jupyter-client>=6.1.12->ipykernel>=4.5.1->ipywidgets->jmd_imagescraper) (305)\n"
     ]
    }
   ],
   "source": [
    "! pip install jmd_imagescraper"
   ]
  },
  {
   "cell_type": "code",
   "execution_count": 1,
   "metadata": {},
   "outputs": [
    {
     "name": "stdout",
     "output_type": "stream",
     "text": [
      "Duckduckgo search: BTS kpop\n"
     ]
    },
    {
     "ename": "AssertionError",
     "evalue": "Failed to obtain search token",
     "output_type": "error",
     "traceback": [
      "\u001b[1;31m---------------------------------------------------------------------------\u001b[0m",
      "\u001b[1;31mAssertionError\u001b[0m                            Traceback (most recent call last)",
      "Cell \u001b[1;32mIn[1], line 6\u001b[0m\n\u001b[0;32m      2\u001b[0m \u001b[38;5;28;01mfrom\u001b[39;00m \u001b[38;5;21;01mpathlib\u001b[39;00m \u001b[38;5;28;01mimport\u001b[39;00m Path\n\u001b[0;32m      4\u001b[0m root \u001b[38;5;241m=\u001b[39m Path()\u001b[38;5;241m.\u001b[39mcwd()\u001b[38;5;241m/\u001b[39m\u001b[38;5;124m\"\u001b[39m\u001b[38;5;124mimages\u001b[39m\u001b[38;5;124m\"\u001b[39m  \u001b[38;5;66;03m# Set the root directory where the images will be saved\u001b[39;00m\n\u001b[1;32m----> 6\u001b[0m \u001b[43mduckduckgo_search\u001b[49m\u001b[43m(\u001b[49m\u001b[43mroot\u001b[49m\u001b[43m,\u001b[49m\u001b[43m \u001b[49m\u001b[38;5;124;43m\"\u001b[39;49m\u001b[38;5;124;43mBTS\u001b[39;49m\u001b[38;5;124;43m\"\u001b[39;49m\u001b[43m,\u001b[49m\u001b[43m \u001b[49m\u001b[38;5;124;43m\"\u001b[39;49m\u001b[38;5;124;43mBTS kpop\u001b[39;49m\u001b[38;5;124;43m\"\u001b[39;49m\u001b[43m,\u001b[49m\u001b[43m \u001b[49m\u001b[43mmax_results\u001b[49m\u001b[38;5;241;43m=\u001b[39;49m\u001b[38;5;241;43m20\u001b[39;49m\u001b[43m)\u001b[49m  \u001b[38;5;66;03m# Perform a DuckDuckGo image search for BTS images\u001b[39;00m\n",
      "File \u001b[1;32md:\\Github\\RPA_WS\\RPA_24\\rpaenv\\Lib\\site-packages\\jmd_imagescraper\\core.py:211\u001b[0m, in \u001b[0;36mduckduckgo_search\u001b[1;34m(path, label, keywords, max_results, img_size, img_type, img_layout, img_color, uuid_names)\u001b[0m\n\u001b[0;32m    208\u001b[0m \u001b[38;5;250m\u001b[39m\u001b[38;5;124;03m'''Run a DuckDuckGo search and download the images. Returns a list of Path objects for files downloaded to disc.'''\u001b[39;00m\n\u001b[0;32m    210\u001b[0m \u001b[38;5;28mprint\u001b[39m(\u001b[38;5;124m\"\u001b[39m\u001b[38;5;124mDuckduckgo search:\u001b[39m\u001b[38;5;124m\"\u001b[39m, keywords)\n\u001b[1;32m--> 211\u001b[0m links \u001b[38;5;241m=\u001b[39m \u001b[43mduckduckgo_scrape_urls\u001b[49m\u001b[43m(\u001b[49m\u001b[43mkeywords\u001b[49m\u001b[43m,\u001b[49m\u001b[43m \u001b[49m\u001b[43mmax_results\u001b[49m\u001b[43m,\u001b[49m\u001b[43m \u001b[49m\u001b[43mimg_size\u001b[49m\u001b[43m,\u001b[49m\u001b[43m \u001b[49m\u001b[43mimg_type\u001b[49m\u001b[43m,\u001b[49m\u001b[43m \u001b[49m\u001b[43mimg_layout\u001b[49m\u001b[43m,\u001b[49m\u001b[43m \u001b[49m\u001b[43mimg_color\u001b[49m\u001b[43m)\u001b[49m\n\u001b[0;32m    212\u001b[0m \u001b[38;5;28;01mreturn\u001b[39;00m download_urls(Path(path)\u001b[38;5;241m/\u001b[39mlabel, links, uuid_names\u001b[38;5;241m=\u001b[39muuid_names)\n",
      "File \u001b[1;32md:\\Github\\RPA_WS\\RPA_24\\rpaenv\\Lib\\site-packages\\jmd_imagescraper\\core.py:82\u001b[0m, in \u001b[0;36mduckduckgo_scrape_urls\u001b[1;34m(keywords, max_results, img_size, img_type, img_layout, img_color)\u001b[0m\n\u001b[0;32m     80\u001b[0m resp \u001b[38;5;241m=\u001b[39m requests\u001b[38;5;241m.\u001b[39mpost(BASE_URL, data\u001b[38;5;241m=\u001b[39mparams)\n\u001b[0;32m     81\u001b[0m match \u001b[38;5;241m=\u001b[39m re\u001b[38;5;241m.\u001b[39msearch(\u001b[38;5;124mr\u001b[39m\u001b[38;5;124m'\u001b[39m\u001b[38;5;124mvqd=([\u001b[39m\u001b[38;5;124m\\\u001b[39m\u001b[38;5;124md-]+)\u001b[39m\u001b[38;5;124m\\\u001b[39m\u001b[38;5;124m&\u001b[39m\u001b[38;5;124m'\u001b[39m, resp\u001b[38;5;241m.\u001b[39mtext, re\u001b[38;5;241m.\u001b[39mM\u001b[38;5;241m|\u001b[39mre\u001b[38;5;241m.\u001b[39mI)\n\u001b[1;32m---> 82\u001b[0m \u001b[38;5;28;01massert\u001b[39;00m match \u001b[38;5;129;01mis\u001b[39;00m \u001b[38;5;129;01mnot\u001b[39;00m \u001b[38;5;28;01mNone\u001b[39;00m, \u001b[38;5;124m\"\u001b[39m\u001b[38;5;124mFailed to obtain search token\u001b[39m\u001b[38;5;124m\"\u001b[39m\n\u001b[0;32m     84\u001b[0m HEADERS \u001b[38;5;241m=\u001b[39m {\n\u001b[0;32m     85\u001b[0m     \u001b[38;5;124m'\u001b[39m\u001b[38;5;124mauthority\u001b[39m\u001b[38;5;124m'\u001b[39m: \u001b[38;5;124m'\u001b[39m\u001b[38;5;124mduckduckgo.com\u001b[39m\u001b[38;5;124m'\u001b[39m,\n\u001b[0;32m     86\u001b[0m     \u001b[38;5;124m'\u001b[39m\u001b[38;5;124maccept\u001b[39m\u001b[38;5;124m'\u001b[39m: \u001b[38;5;124m'\u001b[39m\u001b[38;5;124mapplication/json, text/javascript, */*; q=0.01\u001b[39m\u001b[38;5;124m'\u001b[39m,\n\u001b[1;32m   (...)\u001b[0m\n\u001b[0;32m     93\u001b[0m     \u001b[38;5;124m'\u001b[39m\u001b[38;5;124maccept-language\u001b[39m\u001b[38;5;124m'\u001b[39m: \u001b[38;5;124m'\u001b[39m\u001b[38;5;124men-US,en;q=0.9\u001b[39m\u001b[38;5;124m'\u001b[39m,\n\u001b[0;32m     94\u001b[0m }\n\u001b[0;32m     96\u001b[0m filters \u001b[38;5;241m=\u001b[39m \u001b[38;5;124m\"\u001b[39m\u001b[38;5;124m\"\u001b[39m\n",
      "\u001b[1;31mAssertionError\u001b[0m: Failed to obtain search token"
     ]
    }
   ],
   "source": [
    "from jmd_imagescraper.core import *\n",
    "from pathlib import Path\n",
    "\n",
    "root = Path().cwd()/\"images\"  # Set the root directory where the images will be saved\n",
    "\n",
    "duckduckgo_search(root, \"BTS\", \"BTS kpop\", max_results=20)  # Perform a DuckDuckGo image search for BTS images\n"
   ]
  },
  {
   "attachments": {},
   "cell_type": "markdown",
   "metadata": {},
   "source": [
    "블랙핑크라고 검색해서 나오는 이미지들을 50장 저장하는 파이썬 코드를 작성해줘"
   ]
  },
  {
   "cell_type": "code",
   "execution_count": 10,
   "metadata": {},
   "outputs": [
    {
     "name": "stdout",
     "output_type": "stream",
     "text": [
      "Duckduckgo search: Backpink images\n"
     ]
    },
    {
     "data": {
      "text/plain": [
       "[WindowsPath('e:/Github/JPA_WS/RPA_JAP/25_이미지_크롤링/images/Blackpink/001_40dc2b00.jpg'),\n",
       " WindowsPath('e:/Github/JPA_WS/RPA_JAP/25_이미지_크롤링/images/Blackpink/002_d6257c8f.jpg'),\n",
       " WindowsPath('e:/Github/JPA_WS/RPA_JAP/25_이미지_크롤링/images/Blackpink/003_89fda81b.jpg'),\n",
       " WindowsPath('e:/Github/JPA_WS/RPA_JAP/25_이미지_크롤링/images/Blackpink/004_bfbcd34e.jpg'),\n",
       " WindowsPath('e:/Github/JPA_WS/RPA_JAP/25_이미지_크롤링/images/Blackpink/005_171d7f3f.jpg'),\n",
       " WindowsPath('e:/Github/JPA_WS/RPA_JAP/25_이미지_크롤링/images/Blackpink/006_57b0ce20.jpg'),\n",
       " WindowsPath('e:/Github/JPA_WS/RPA_JAP/25_이미지_크롤링/images/Blackpink/007_4113dc01.jpg'),\n",
       " WindowsPath('e:/Github/JPA_WS/RPA_JAP/25_이미지_크롤링/images/Blackpink/008_317acd8d.jpg'),\n",
       " WindowsPath('e:/Github/JPA_WS/RPA_JAP/25_이미지_크롤링/images/Blackpink/009_16c309a2.jpg'),\n",
       " WindowsPath('e:/Github/JPA_WS/RPA_JAP/25_이미지_크롤링/images/Blackpink/010_0b163cb9.jpg'),\n",
       " WindowsPath('e:/Github/JPA_WS/RPA_JAP/25_이미지_크롤링/images/Blackpink/011_9d3fd757.jpg'),\n",
       " WindowsPath('e:/Github/JPA_WS/RPA_JAP/25_이미지_크롤링/images/Blackpink/012_c3192a53.jpg'),\n",
       " WindowsPath('e:/Github/JPA_WS/RPA_JAP/25_이미지_크롤링/images/Blackpink/013_5ec1d3bb.jpg'),\n",
       " WindowsPath('e:/Github/JPA_WS/RPA_JAP/25_이미지_크롤링/images/Blackpink/014_f0e48124.jpg'),\n",
       " WindowsPath('e:/Github/JPA_WS/RPA_JAP/25_이미지_크롤링/images/Blackpink/015_93ea86a5.jpg'),\n",
       " WindowsPath('e:/Github/JPA_WS/RPA_JAP/25_이미지_크롤링/images/Blackpink/016_e9f64060.jpg'),\n",
       " WindowsPath('e:/Github/JPA_WS/RPA_JAP/25_이미지_크롤링/images/Blackpink/017_8b05831a.jpg'),\n",
       " WindowsPath('e:/Github/JPA_WS/RPA_JAP/25_이미지_크롤링/images/Blackpink/018_39efd272.jpg'),\n",
       " WindowsPath('e:/Github/JPA_WS/RPA_JAP/25_이미지_크롤링/images/Blackpink/019_9a475a89.jpg'),\n",
       " WindowsPath('e:/Github/JPA_WS/RPA_JAP/25_이미지_크롤링/images/Blackpink/020_b26d9cbd.jpg'),\n",
       " WindowsPath('e:/Github/JPA_WS/RPA_JAP/25_이미지_크롤링/images/Blackpink/021_a3e860d7.jpg'),\n",
       " WindowsPath('e:/Github/JPA_WS/RPA_JAP/25_이미지_크롤링/images/Blackpink/022_c5f108d2.jpg'),\n",
       " WindowsPath('e:/Github/JPA_WS/RPA_JAP/25_이미지_크롤링/images/Blackpink/023_5118ba09.jpg'),\n",
       " WindowsPath('e:/Github/JPA_WS/RPA_JAP/25_이미지_크롤링/images/Blackpink/024_58cb38e4.jpg'),\n",
       " WindowsPath('e:/Github/JPA_WS/RPA_JAP/25_이미지_크롤링/images/Blackpink/025_4aea3b01.jpg'),\n",
       " WindowsPath('e:/Github/JPA_WS/RPA_JAP/25_이미지_크롤링/images/Blackpink/026_535a75ac.jpg'),\n",
       " WindowsPath('e:/Github/JPA_WS/RPA_JAP/25_이미지_크롤링/images/Blackpink/027_89b885c3.jpg'),\n",
       " WindowsPath('e:/Github/JPA_WS/RPA_JAP/25_이미지_크롤링/images/Blackpink/028_c501171c.jpg'),\n",
       " WindowsPath('e:/Github/JPA_WS/RPA_JAP/25_이미지_크롤링/images/Blackpink/029_5d4eee25.jpg'),\n",
       " WindowsPath('e:/Github/JPA_WS/RPA_JAP/25_이미지_크롤링/images/Blackpink/030_e6d1853e.jpg'),\n",
       " WindowsPath('e:/Github/JPA_WS/RPA_JAP/25_이미지_크롤링/images/Blackpink/031_869fd0c1.jpg'),\n",
       " WindowsPath('e:/Github/JPA_WS/RPA_JAP/25_이미지_크롤링/images/Blackpink/032_59f59aa6.jpg'),\n",
       " WindowsPath('e:/Github/JPA_WS/RPA_JAP/25_이미지_크롤링/images/Blackpink/034_435ba951.jpg'),\n",
       " WindowsPath('e:/Github/JPA_WS/RPA_JAP/25_이미지_크롤링/images/Blackpink/035_aaed4928.jpg'),\n",
       " WindowsPath('e:/Github/JPA_WS/RPA_JAP/25_이미지_크롤링/images/Blackpink/037_1e3c38e0.jpg'),\n",
       " WindowsPath('e:/Github/JPA_WS/RPA_JAP/25_이미지_크롤링/images/Blackpink/038_10ba2c8d.jpg'),\n",
       " WindowsPath('e:/Github/JPA_WS/RPA_JAP/25_이미지_크롤링/images/Blackpink/039_22270ce3.jpg'),\n",
       " WindowsPath('e:/Github/JPA_WS/RPA_JAP/25_이미지_크롤링/images/Blackpink/040_296bc807.jpg'),\n",
       " WindowsPath('e:/Github/JPA_WS/RPA_JAP/25_이미지_크롤링/images/Blackpink/041_00ff6054.jpg'),\n",
       " WindowsPath('e:/Github/JPA_WS/RPA_JAP/25_이미지_크롤링/images/Blackpink/042_b941bb2f.jpg'),\n",
       " WindowsPath('e:/Github/JPA_WS/RPA_JAP/25_이미지_크롤링/images/Blackpink/043_cf39253c.jpg'),\n",
       " WindowsPath('e:/Github/JPA_WS/RPA_JAP/25_이미지_크롤링/images/Blackpink/044_6a4875b3.jpg'),\n",
       " WindowsPath('e:/Github/JPA_WS/RPA_JAP/25_이미지_크롤링/images/Blackpink/045_f98af858.jpg'),\n",
       " WindowsPath('e:/Github/JPA_WS/RPA_JAP/25_이미지_크롤링/images/Blackpink/046_3e4cf1f5.jpg'),\n",
       " WindowsPath('e:/Github/JPA_WS/RPA_JAP/25_이미지_크롤링/images/Blackpink/047_0c6bcabb.jpg'),\n",
       " WindowsPath('e:/Github/JPA_WS/RPA_JAP/25_이미지_크롤링/images/Blackpink/048_3c246dbf.jpg'),\n",
       " WindowsPath('e:/Github/JPA_WS/RPA_JAP/25_이미지_크롤링/images/Blackpink/050_85c1f6c2.jpg')]"
      ]
     },
     "execution_count": 10,
     "metadata": {},
     "output_type": "execute_result"
    }
   ],
   "source": [
    "from jmd_imagescraper.core import *\n",
    "from pathlib import Path\n",
    "\n",
    "root = Path().cwd()/\"images\"  # Set root directory to current working directory + /images\n",
    "\n",
    "duckduckgo_search(root, \"Blackpink\", \"Backpink images\", max_results=50)  # Download 50 images of Blackpink from DuckDuckGo\n"
   ]
  },
  {
   "attachments": {},
   "cell_type": "markdown",
   "metadata": {},
   "source": [
    "blackpink를 한국어로 검색해줘"
   ]
  },
  {
   "cell_type": "code",
   "execution_count": 11,
   "metadata": {},
   "outputs": [
    {
     "name": "stdout",
     "output_type": "stream",
     "text": [
      "Duckduckgo search: 블랙핑크 이미지\n"
     ]
    },
    {
     "data": {
      "text/plain": [
       "[WindowsPath('e:/Github/JPA_WS/RPA_JAP/25_이미지_크롤링/images/블랙핑크/001_ee89a4f2.jpg'),\n",
       " WindowsPath('e:/Github/JPA_WS/RPA_JAP/25_이미지_크롤링/images/블랙핑크/002_bec19b3e.jpg'),\n",
       " WindowsPath('e:/Github/JPA_WS/RPA_JAP/25_이미지_크롤링/images/블랙핑크/003_aa70b75a.jpg'),\n",
       " WindowsPath('e:/Github/JPA_WS/RPA_JAP/25_이미지_크롤링/images/블랙핑크/004_a720f5f3.jpg'),\n",
       " WindowsPath('e:/Github/JPA_WS/RPA_JAP/25_이미지_크롤링/images/블랙핑크/005_19024821.jpg'),\n",
       " WindowsPath('e:/Github/JPA_WS/RPA_JAP/25_이미지_크롤링/images/블랙핑크/006_1653cc0f.jpg'),\n",
       " WindowsPath('e:/Github/JPA_WS/RPA_JAP/25_이미지_크롤링/images/블랙핑크/007_f6f110c5.jpg'),\n",
       " WindowsPath('e:/Github/JPA_WS/RPA_JAP/25_이미지_크롤링/images/블랙핑크/008_76a4eb85.jpg'),\n",
       " WindowsPath('e:/Github/JPA_WS/RPA_JAP/25_이미지_크롤링/images/블랙핑크/009_37e25cd7.jpg'),\n",
       " WindowsPath('e:/Github/JPA_WS/RPA_JAP/25_이미지_크롤링/images/블랙핑크/010_15b5fd94.jpg'),\n",
       " WindowsPath('e:/Github/JPA_WS/RPA_JAP/25_이미지_크롤링/images/블랙핑크/011_6d0914ec.jpg'),\n",
       " WindowsPath('e:/Github/JPA_WS/RPA_JAP/25_이미지_크롤링/images/블랙핑크/012_c9fd0e36.jpg'),\n",
       " WindowsPath('e:/Github/JPA_WS/RPA_JAP/25_이미지_크롤링/images/블랙핑크/013_8ea74880.jpg'),\n",
       " WindowsPath('e:/Github/JPA_WS/RPA_JAP/25_이미지_크롤링/images/블랙핑크/014_3b49fb2d.jpg'),\n",
       " WindowsPath('e:/Github/JPA_WS/RPA_JAP/25_이미지_크롤링/images/블랙핑크/015_1247ab55.jpg'),\n",
       " WindowsPath('e:/Github/JPA_WS/RPA_JAP/25_이미지_크롤링/images/블랙핑크/016_34037415.jpg'),\n",
       " WindowsPath('e:/Github/JPA_WS/RPA_JAP/25_이미지_크롤링/images/블랙핑크/017_e9b2ad43.jpg'),\n",
       " WindowsPath('e:/Github/JPA_WS/RPA_JAP/25_이미지_크롤링/images/블랙핑크/018_b8deb63a.jpg'),\n",
       " WindowsPath('e:/Github/JPA_WS/RPA_JAP/25_이미지_크롤링/images/블랙핑크/019_ca915fdb.jpg'),\n",
       " WindowsPath('e:/Github/JPA_WS/RPA_JAP/25_이미지_크롤링/images/블랙핑크/020_334819df.jpg'),\n",
       " WindowsPath('e:/Github/JPA_WS/RPA_JAP/25_이미지_크롤링/images/블랙핑크/021_114861ed.jpg'),\n",
       " WindowsPath('e:/Github/JPA_WS/RPA_JAP/25_이미지_크롤링/images/블랙핑크/022_98f37042.jpg'),\n",
       " WindowsPath('e:/Github/JPA_WS/RPA_JAP/25_이미지_크롤링/images/블랙핑크/023_c35fe0cd.jpg'),\n",
       " WindowsPath('e:/Github/JPA_WS/RPA_JAP/25_이미지_크롤링/images/블랙핑크/024_9dc78c80.jpg'),\n",
       " WindowsPath('e:/Github/JPA_WS/RPA_JAP/25_이미지_크롤링/images/블랙핑크/025_6429bee4.jpg'),\n",
       " WindowsPath('e:/Github/JPA_WS/RPA_JAP/25_이미지_크롤링/images/블랙핑크/026_882b0c2c.jpg'),\n",
       " WindowsPath('e:/Github/JPA_WS/RPA_JAP/25_이미지_크롤링/images/블랙핑크/027_5c36d68d.jpg'),\n",
       " WindowsPath('e:/Github/JPA_WS/RPA_JAP/25_이미지_크롤링/images/블랙핑크/028_6a9f635d.jpg'),\n",
       " WindowsPath('e:/Github/JPA_WS/RPA_JAP/25_이미지_크롤링/images/블랙핑크/029_65e74246.jpg'),\n",
       " WindowsPath('e:/Github/JPA_WS/RPA_JAP/25_이미지_크롤링/images/블랙핑크/030_bdfb6c39.jpg'),\n",
       " WindowsPath('e:/Github/JPA_WS/RPA_JAP/25_이미지_크롤링/images/블랙핑크/032_d01cfcc2.jpg'),\n",
       " WindowsPath('e:/Github/JPA_WS/RPA_JAP/25_이미지_크롤링/images/블랙핑크/033_bc361d85.jpg'),\n",
       " WindowsPath('e:/Github/JPA_WS/RPA_JAP/25_이미지_크롤링/images/블랙핑크/034_e2ea56f8.jpg'),\n",
       " WindowsPath('e:/Github/JPA_WS/RPA_JAP/25_이미지_크롤링/images/블랙핑크/035_76ca7ae3.jpg'),\n",
       " WindowsPath('e:/Github/JPA_WS/RPA_JAP/25_이미지_크롤링/images/블랙핑크/036_1b7bef1f.jpg'),\n",
       " WindowsPath('e:/Github/JPA_WS/RPA_JAP/25_이미지_크롤링/images/블랙핑크/037_3fac8045.jpg'),\n",
       " WindowsPath('e:/Github/JPA_WS/RPA_JAP/25_이미지_크롤링/images/블랙핑크/039_71d678b5.jpg'),\n",
       " WindowsPath('e:/Github/JPA_WS/RPA_JAP/25_이미지_크롤링/images/블랙핑크/040_3d3ae085.jpg'),\n",
       " WindowsPath('e:/Github/JPA_WS/RPA_JAP/25_이미지_크롤링/images/블랙핑크/041_e19cd75f.jpg'),\n",
       " WindowsPath('e:/Github/JPA_WS/RPA_JAP/25_이미지_크롤링/images/블랙핑크/042_bdf47d24.jpg'),\n",
       " WindowsPath('e:/Github/JPA_WS/RPA_JAP/25_이미지_크롤링/images/블랙핑크/043_6840948a.jpg'),\n",
       " WindowsPath('e:/Github/JPA_WS/RPA_JAP/25_이미지_크롤링/images/블랙핑크/044_4c0e3eac.jpg'),\n",
       " WindowsPath('e:/Github/JPA_WS/RPA_JAP/25_이미지_크롤링/images/블랙핑크/045_e248381c.jpg'),\n",
       " WindowsPath('e:/Github/JPA_WS/RPA_JAP/25_이미지_크롤링/images/블랙핑크/047_fa9d01fe.jpg'),\n",
       " WindowsPath('e:/Github/JPA_WS/RPA_JAP/25_이미지_크롤링/images/블랙핑크/048_129e19b7.jpg'),\n",
       " WindowsPath('e:/Github/JPA_WS/RPA_JAP/25_이미지_크롤링/images/블랙핑크/049_a141a029.jpg'),\n",
       " WindowsPath('e:/Github/JPA_WS/RPA_JAP/25_이미지_크롤링/images/블랙핑크/050_ac3bdf89.jpg')]"
      ]
     },
     "execution_count": 11,
     "metadata": {},
     "output_type": "execute_result"
    }
   ],
   "source": [
    "from jmd_imagescraper.core import *\n",
    "from pathlib import Path\n",
    "\n",
    "root = Path().cwd()/\"images\"  # Set root directory to current working directory + /images\n",
    "\n",
    "duckduckgo_search(root, \"블랙핑크\", \"블랙핑크 이미지\", max_results=50)  # Search for \"블랙핑크\" and download 50 images\n"
   ]
  },
  {
   "attachments": {},
   "cell_type": "markdown",
   "metadata": {},
   "source": [
    "images/블랙핑크 폴더 안에 있는 jpg 파일들의 이름을 블랙핑크_1.jpg 블랙핑크_2.jpg 블랙핑크_3.jpg 형태로 변경하는 파이썬 코드 작성해줘"
   ]
  },
  {
   "cell_type": "code",
   "execution_count": 13,
   "metadata": {},
   "outputs": [],
   "source": [
    "import os\n",
    "\n",
    "folder_path = \"images/블랙핑크\"\n",
    "file_list = os.listdir(folder_path)\n",
    "\n",
    "i = 1\n",
    "for filename in file_list:\n",
    "    if filename.endswith(\".jpg\"):\n",
    "        new_filename = \"블랙핑크_\" + str(i) + \".jpg\"\n",
    "        os.rename(os.path.join(folder_path, filename), os.path.join(folder_path, new_filename))\n",
    "        i += 1\n"
   ]
  },
  {
   "attachments": {},
   "cell_type": "markdown",
   "metadata": {},
   "source": [
    "images 폴더를 zip 파일로 압축하는 파이썬 코드를 작성해줘"
   ]
  },
  {
   "cell_type": "code",
   "execution_count": null,
   "metadata": {},
   "outputs": [],
   "source": [
    "import zipfile\n",
    "import os\n",
    "\n",
    "# Name of the folder to compress\n",
    "folder_name = 'images'\n",
    "\n",
    "# Name of the zip file to create\n",
    "zip_name = 'compressed_images.zip'\n",
    "\n",
    "# Create a ZipFile object with the name of the zip file and mode='w' to write to it\n",
    "with zipfile.ZipFile(zip_name, 'w') as zip_obj:\n",
    "    \n",
    "    # Iterate over all files in the folder\n",
    "    for foldername, subfolders, filenames in os.walk(folder_name):\n",
    "        for filename in filenames:\n",
    "            \n",
    "            # Create the full file path by joining the folder name and the filename\n",
    "            file_path = os.path.join(foldername, filename)\n",
    "            \n",
    "            # Add the file to the zip file using the relative path\n",
    "            zip_obj.write(file_path, arcname=os.path.relpath(file_path, folder_name))\n"
   ]
  }
 ],
 "metadata": {
  "kernelspec": {
   "display_name": "Python 3",
   "language": "python",
   "name": "python3"
  },
  "language_info": {
   "codemirror_mode": {
    "name": "ipython",
    "version": 3
   },
   "file_extension": ".py",
   "mimetype": "text/x-python",
   "name": "python",
   "nbconvert_exporter": "python",
   "pygments_lexer": "ipython3",
   "version": "3.12.2"
  },
  "orig_nbformat": 4
 },
 "nbformat": 4,
 "nbformat_minor": 2
}
