{
 "cells": [
  {
   "attachments": {},
   "cell_type": "markdown",
   "metadata": {},
   "source": [
    "### 이미지 크롤링"
   ]
  },
  {
   "cell_type": "markdown",
   "metadata": {},
   "source": [
    "- 구글 이미지 검색 \n",
    "- 작은 이미지를 클릭하여 나온 큰 이미지를 저장하기 "
   ]
  },
  {
   "cell_type": "markdown",
   "metadata": {},
   "source": [
    "1. 구글이미지 검색 질의하기 \n",
    "- https://www.google.co.kr/search?q=blackpink&tbm=isch&ved=2ahUKEwif9MvgmOj_AhUCH3AKHYOoCmMQ2-cCegQIABAA&oq=blackpink&gs_lcp=CgNpbWcQA1AAWABg1QhoAHAAeACAAQCIAQCSAQCYAQCqAQtnd3Mtd2l6LWltZ8ABAQ&sclient=img&ei=f1KdZN-4IoK-wAOD0aqYBg&bih=966&biw=1816&hl=ko 에서 작은 이미지를 하나씩 클릭하고, 클릭 결과로 나온 큰 이미지들을 저장하는 python selenium 코드를 작성해줘"
   ]
  },
  {
   "cell_type": "code",
   "execution_count": 1,
   "metadata": {},
   "outputs": [
    {
     "name": "stdout",
     "output_type": "stream",
     "text": [
      "Collecting selenium\n",
      "  Downloading selenium-4.24.0-py3-none-any.whl.metadata (7.1 kB)\n",
      "Requirement already satisfied: urllib3<3,>=1.26 in e:\\github\\jpa_ws\\rpa_23\\rpaenv\\lib\\site-packages (from urllib3[socks]<3,>=1.26->selenium) (2.2.2)\n",
      "Collecting trio~=0.17 (from selenium)\n",
      "  Downloading trio-0.26.2-py3-none-any.whl.metadata (8.6 kB)\n",
      "Collecting trio-websocket~=0.9 (from selenium)\n",
      "  Downloading trio_websocket-0.11.1-py3-none-any.whl.metadata (4.7 kB)\n",
      "Requirement already satisfied: certifi>=2021.10.8 in e:\\github\\jpa_ws\\rpa_23\\rpaenv\\lib\\site-packages (from selenium) (2024.8.30)\n",
      "Collecting typing_extensions~=4.9 (from selenium)\n",
      "  Using cached typing_extensions-4.12.2-py3-none-any.whl.metadata (3.0 kB)\n",
      "Collecting websocket-client~=1.8 (from selenium)\n",
      "  Downloading websocket_client-1.8.0-py3-none-any.whl.metadata (8.0 kB)\n",
      "Collecting attrs>=23.2.0 (from trio~=0.17->selenium)\n",
      "  Downloading attrs-24.2.0-py3-none-any.whl.metadata (11 kB)\n",
      "Collecting sortedcontainers (from trio~=0.17->selenium)\n",
      "  Downloading sortedcontainers-2.4.0-py2.py3-none-any.whl.metadata (10 kB)\n",
      "Requirement already satisfied: idna in e:\\github\\jpa_ws\\rpa_23\\rpaenv\\lib\\site-packages (from trio~=0.17->selenium) (3.8)\n",
      "Collecting outcome (from trio~=0.17->selenium)\n",
      "  Downloading outcome-1.3.0.post0-py2.py3-none-any.whl.metadata (2.6 kB)\n",
      "Collecting sniffio>=1.3.0 (from trio~=0.17->selenium)\n",
      "  Using cached sniffio-1.3.1-py3-none-any.whl.metadata (3.9 kB)\n",
      "Collecting cffi>=1.14 (from trio~=0.17->selenium)\n",
      "  Downloading cffi-1.17.1-cp312-cp312-win_amd64.whl.metadata (1.6 kB)\n",
      "Collecting wsproto>=0.14 (from trio-websocket~=0.9->selenium)\n",
      "  Downloading wsproto-1.2.0-py3-none-any.whl.metadata (5.6 kB)\n",
      "Collecting pysocks!=1.5.7,<2.0,>=1.5.6 (from urllib3[socks]<3,>=1.26->selenium)\n",
      "  Downloading PySocks-1.7.1-py3-none-any.whl.metadata (13 kB)\n",
      "Collecting pycparser (from cffi>=1.14->trio~=0.17->selenium)\n",
      "  Downloading pycparser-2.22-py3-none-any.whl.metadata (943 bytes)\n",
      "Collecting h11<1,>=0.9.0 (from wsproto>=0.14->trio-websocket~=0.9->selenium)\n",
      "  Using cached h11-0.14.0-py3-none-any.whl.metadata (8.2 kB)\n",
      "Downloading selenium-4.24.0-py3-none-any.whl (9.6 MB)\n",
      "   ---------------------------------------- 0.0/9.6 MB ? eta -:--:--\n",
      "   --- ------------------------------------ 0.8/9.6 MB 8.3 MB/s eta 0:00:02\n",
      "   ------------- -------------------------- 3.1/9.6 MB 9.2 MB/s eta 0:00:01\n",
      "   ------------------------ --------------- 5.8/9.6 MB 10.4 MB/s eta 0:00:01\n",
      "   --------------------------------- ------ 8.1/9.6 MB 10.7 MB/s eta 0:00:01\n",
      "   ---------------------------------------- 9.6/9.6 MB 9.9 MB/s eta 0:00:00\n",
      "Downloading trio-0.26.2-py3-none-any.whl (475 kB)\n",
      "Downloading trio_websocket-0.11.1-py3-none-any.whl (17 kB)\n",
      "Using cached typing_extensions-4.12.2-py3-none-any.whl (37 kB)\n",
      "Downloading websocket_client-1.8.0-py3-none-any.whl (58 kB)\n",
      "Downloading attrs-24.2.0-py3-none-any.whl (63 kB)\n",
      "Downloading cffi-1.17.1-cp312-cp312-win_amd64.whl (181 kB)\n",
      "Downloading PySocks-1.7.1-py3-none-any.whl (16 kB)\n",
      "Using cached sniffio-1.3.1-py3-none-any.whl (10 kB)\n",
      "Downloading wsproto-1.2.0-py3-none-any.whl (24 kB)\n",
      "Downloading outcome-1.3.0.post0-py2.py3-none-any.whl (10 kB)\n",
      "Downloading sortedcontainers-2.4.0-py2.py3-none-any.whl (29 kB)\n",
      "Using cached h11-0.14.0-py3-none-any.whl (58 kB)\n",
      "Downloading pycparser-2.22-py3-none-any.whl (117 kB)\n",
      "Installing collected packages: sortedcontainers, websocket-client, typing_extensions, sniffio, pysocks, pycparser, h11, attrs, wsproto, outcome, cffi, trio, trio-websocket, selenium\n",
      "Successfully installed attrs-24.2.0 cffi-1.17.1 h11-0.14.0 outcome-1.3.0.post0 pycparser-2.22 pysocks-1.7.1 selenium-4.24.0 sniffio-1.3.1 sortedcontainers-2.4.0 trio-0.26.2 trio-websocket-0.11.1 typing_extensions-4.12.2 websocket-client-1.8.0 wsproto-1.2.0\n"
     ]
    }
   ],
   "source": [
    "! pip install selenium"
   ]
  },
  {
   "cell_type": "code",
   "execution_count": null,
   "metadata": {},
   "outputs": [],
   "source": [
    "from selenium import webdriver\n",
    "import time\n",
    "import urllib.request\n",
    "\n",
    "# 웹 드라이버 경로 설정 (Chrome 웹 드라이버)\n",
    "driver_path = '웹드라이버_경로/chromedriver.exe'\n",
    "\n",
    "# 검색할 키워드\n",
    "search_keyword = 'blackpink'\n",
    "\n",
    "# 이미지 저장 경로\n",
    "save_directory = '이미지_저장_경로/'\n",
    "\n",
    "# 웹 드라이버 실행\n",
    "driver = webdriver.Chrome(driver_path)\n",
    "\n",
    "# Google 이미지 검색 페이지 열기\n",
    "driver.get(\"https://www.google.co.kr/search?q=\" + search_keyword + \"&tbm=isch\")\n",
    "\n",
    "# 이미지 로딩을 위해 잠시 대기\n",
    "time.sleep(5)\n",
    "\n",
    "# 이미지 클릭하고 큰 이미지 저장하기\n",
    "images = driver.find_elements_by_css_selector(\".rg_i\")\n",
    "for i, image in enumerate(images):\n",
    "    try:\n",
    "        # 이미지 클릭\n",
    "        driver.execute_script(\"arguments[0].click();\", image)\n",
    "        \n",
    "        # 이미지 로딩을 위해 잠시 대기\n",
    "        time.sleep(2)\n",
    "        \n",
    "        # 큰 이미지 URL 가져오기\n",
    "        big_image = driver.find_element_by_css_selector(\".n3VNCb img\")\n",
    "        image_url = big_image.get_attribute(\"src\")\n",
    "        \n",
    "        # 이미지 저장\n",
    "        file_name = save_directory + f\"{search_keyword}_{i+1}.jpg\"\n",
    "        urllib.request.urlretrieve(image_url, file_name)\n",
    "        print(f\"이미지 저장 완료: {file_name}\")\n",
    "        \n",
    "        # 뒤로 가기\n",
    "        driver.execute_script(\"window.history.go(-1)\")\n",
    "        \n",
    "        # 이미지 로딩을 위해 잠시 대기\n",
    "        time.sleep(2)\n",
    "    except Exception as e:\n",
    "        print(f\"이미지 저장 실패: {e}\")\n",
    "\n",
    "# 웹 드라이버 종료\n",
    "driver.quit()"
   ]
  },
  {
   "cell_type": "markdown",
   "metadata": {},
   "source": [
    "2. 위의 코드를 크롬용 webdriver-manager를 사용하는 코드로 작성해줘"
   ]
  },
  {
   "cell_type": "code",
   "execution_count": 3,
   "metadata": {},
   "outputs": [
    {
     "name": "stdout",
     "output_type": "stream",
     "text": [
      "Collecting webdriver-manager\n",
      "  Downloading webdriver_manager-4.0.2-py2.py3-none-any.whl.metadata (12 kB)\n",
      "Requirement already satisfied: requests in e:\\github\\jpa_ws\\rpa_23\\rpaenv\\lib\\site-packages (from webdriver-manager) (2.32.3)\n",
      "Collecting python-dotenv (from webdriver-manager)\n",
      "  Using cached python_dotenv-1.0.1-py3-none-any.whl.metadata (23 kB)\n",
      "Requirement already satisfied: packaging in e:\\github\\jpa_ws\\rpa_23\\rpaenv\\lib\\site-packages (from webdriver-manager) (24.1)\n",
      "Requirement already satisfied: charset-normalizer<4,>=2 in e:\\github\\jpa_ws\\rpa_23\\rpaenv\\lib\\site-packages (from requests->webdriver-manager) (3.3.2)\n",
      "Requirement already satisfied: idna<4,>=2.5 in e:\\github\\jpa_ws\\rpa_23\\rpaenv\\lib\\site-packages (from requests->webdriver-manager) (3.8)\n",
      "Requirement already satisfied: urllib3<3,>=1.21.1 in e:\\github\\jpa_ws\\rpa_23\\rpaenv\\lib\\site-packages (from requests->webdriver-manager) (2.2.2)\n",
      "Requirement already satisfied: certifi>=2017.4.17 in e:\\github\\jpa_ws\\rpa_23\\rpaenv\\lib\\site-packages (from requests->webdriver-manager) (2024.8.30)\n",
      "Downloading webdriver_manager-4.0.2-py2.py3-none-any.whl (27 kB)\n",
      "Using cached python_dotenv-1.0.1-py3-none-any.whl (19 kB)\n",
      "Installing collected packages: python-dotenv, webdriver-manager\n",
      "Successfully installed python-dotenv-1.0.1 webdriver-manager-4.0.2\n"
     ]
    }
   ],
   "source": [
    "! pip install webdriver-manager"
   ]
  },
  {
   "cell_type": "code",
   "execution_count": 4,
   "metadata": {},
   "outputs": [],
   "source": [
    "from selenium import webdriver\n",
    "from selenium.webdriver.chrome.service import Service\n",
    "from selenium.webdriver.common.by import By\n",
    "from webdriver_manager.chrome import ChromeDriverManager\n",
    "import os\n",
    "import time\n",
    "import urllib.request\n",
    "\n",
    "# 웹 드라이버 서비스 생성\n",
    "service = Service(ChromeDriverManager().install())\n",
    "\n",
    "# 검색할 키워드\n",
    "search_keyword = 'blackpink' #input(\"어떤 이미지를 검색할까요? \") #'blackpink'\n",
    "\n",
    "# 이미지 저장 폴더 경로\n",
    "save_directory = 'images/'\n",
    "\n",
    "# images 폴더가 없을 경우 폴더 생성\n",
    "if not os.path.exists(save_directory):\n",
    "    os.makedirs(save_directory)\n",
    "\n",
    "# 웹 드라이버 실행\n",
    "driver = webdriver.Chrome(service=service)\n",
    "\n",
    "# Google 이미지 검색 페이지 열기\n",
    "driver.get(\"https://www.google.co.kr/search?q=\" + search_keyword + \"&tbm=isch\")\n",
    "\n",
    "# 이미지 로딩을 위해 잠시 대기\n",
    "time.sleep(5)\n",
    "\n",
    "# 이미지 클릭하고 큰 이미지 저장하기\n",
    "images = driver.find_elements(By.CSS_SELECTOR, \".rg_i\")\n",
    "for i, image in enumerate(images):\n",
    "    if i == 10:\n",
    "        break\n",
    "      \n",
    "    try:\n",
    "        # 이미지 클릭\n",
    "        driver.execute_script(\"arguments[0].click();\", image)\n",
    "        \n",
    "        # 이미지 로딩을 위해 잠시 대기\n",
    "        time.sleep(2)\n",
    "        \n",
    "        # 큰 이미지 URL 가져오기\n",
    "        #big_image = driver.find_element(By.CSS_SELECTOR, \".Du2c7e img\")\n",
    "        big_image = driver.find_element(By.XPATH, \"/html/body/div[2]/c-wiz/div[3]/div[2]/div[3]/div[2]/div[2]/div[2]/div[2]/c-wiz/div/div/div/div[3]/div[1]/a/img[1]\")\n",
    "        image_url = big_image.get_attribute(\"src\")\n",
    "        \n",
    "        # 이미지 저장\n",
    "        file_name = save_directory + f\"{search_keyword}_{i+1}.jpg\"\n",
    "        urllib.request.urlretrieve(image_url, file_name)\n",
    "        print(f\"이미지 저장 완료: {file_name}\")\n",
    "        \n",
    "        # 뒤로 가기\n",
    "        driver.execute_script(\"window.history.go(-1)\")\n",
    "        \n",
    "        # 이미지 로딩을 위해 잠시 대기\n",
    "        time.sleep(2)\n",
    "    except Exception as e:\n",
    "        print(f\"이미지 저장 실패: {e}\")\n",
    "\n",
    "# 웹 드라이버 종료\n",
    "driver.quit()\n"
   ]
  },
  {
   "cell_type": "markdown",
   "metadata": {},
   "source": [
    "Du2c7e\n",
    "<img src=\"https://media.cnn.com/api/v1/images/stellar/prod/221206090002-blackpink-file-082822.jpg?c=original\" jsaction=\"VQAsE\" class=\"r48jcc pT0Scc iPVvYb\" style=\"max-width: 2000px; height: 289px; margin: 0px; width: 415px;\" alt=\"Blackpink named Time Entertainer of the Year 2022 | CNN\" jsname=\"kn3ccd\" aria-hidden=\"false\">\n",
    "\n",
    "<img src=\"https://post-phinf.pstatic.net/MjAyMjA5MDJfMjYg/MDAxNjYyMDgwMjI1MDE2.7y-Vggia4SCBs4Y5gGOxAgf7tUPTXFWYd9fT8NTl9twg.0ceiOXVJQMerjTzkijUddblVAOMnZO-FyMpKHpaV6X4g.JPEG/%EB%B8%94%EB%9E%99%ED%95%91%ED%81%AC_%288%29.jpg?type=w800_q75\" jsaction=\"VQAsE\" class=\"r48jcc pT0Scc iPVvYb\" style=\"max-width: 800px; width: 415px; height: 277px; margin: 0px;\" alt=\"BLACKPINK] 블랙핑크가 독이라면, 기꺼이 중독될게♥ (ft.MV 비하인드 컷) : 네이버 포스트\" jsname=\"kn3ccd\" aria-hidden=\"false\">"
   ]
  }
 ],
 "metadata": {
  "kernelspec": {
   "display_name": "Python 3.11.1 64-bit",
   "language": "python",
   "name": "python3"
  },
  "language_info": {
   "codemirror_mode": {
    "name": "ipython",
    "version": 3
   },
   "file_extension": ".py",
   "mimetype": "text/x-python",
   "name": "python",
   "nbconvert_exporter": "python",
   "pygments_lexer": "ipython3",
   "version": "3.11.6"
  },
  "orig_nbformat": 4,
  "vscode": {
   "interpreter": {
    "hash": "81eef19b52451e11e3f8bf6bc518dd5f147d5a651198624c9c211c83ec7c4923"
   }
  }
 },
 "nbformat": 4,
 "nbformat_minor": 2
}
