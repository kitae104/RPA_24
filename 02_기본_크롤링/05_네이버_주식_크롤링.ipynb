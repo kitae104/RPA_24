{
 "cells": [
  {
   "cell_type": "markdown",
   "metadata": {},
   "source": [
    "주식 정보 가져오기"
   ]
  },
  {
   "cell_type": "code",
   "execution_count": 1,
   "metadata": {},
   "outputs": [
    {
     "name": "stdout",
     "output_type": "stream",
     "text": [
      "56000\n"
     ]
    }
   ],
   "source": [
    "import requests\n",
    "from bs4 import BeautifulSoup\n",
    "\n",
    "url = \"https://finance.naver.com/item/sise.naver?code=005935\"\n",
    "response = requests.get(url)\n",
    "html = response.text\n",
    "soup = BeautifulSoup(html, 'html.parser')\n",
    "price = soup.select_one('#_nowVal').text\n",
    "price = price.replace(',', '')\n",
    "print(price)"
   ]
  },
  {
   "cell_type": "markdown",
   "metadata": {},
   "source": [
    "여러 종목 가져오기 \n",
    "- 명칭으로 종목 코드 확인하기"
   ]
  },
  {
   "cell_type": "code",
   "execution_count": 2,
   "metadata": {},
   "outputs": [
    {
     "name": "stdout",
     "output_type": "stream",
     "text": [
      "56000\n",
      "20500\n",
      "49700\n"
     ]
    }
   ],
   "source": [
    "import requests\n",
    "from bs4 import BeautifulSoup\n",
    "\n",
    "# 종목 코드 리스트 \n",
    "codes = ['005935', '323410', '039130']\n",
    "\n",
    "for code in codes:\n",
    "\n",
    "  url = f\"https://finance.naver.com/item/sise.naver?code={code}\"\n",
    "  response = requests.get(url)\n",
    "  html = response.text\n",
    "  soup = BeautifulSoup(html, 'html.parser')\n",
    "  price = soup.select_one('#_nowVal').text\n",
    "  price = price.replace(',', '')\n",
    "  print(price)"
   ]
  },
  {
   "cell_type": "code",
   "execution_count": 3,
   "metadata": {},
   "outputs": [
    {
     "name": "stdout",
     "output_type": "stream",
     "text": [
      "Collecting openpyxl\n",
      "  Downloading openpyxl-3.1.5-py2.py3-none-any.whl.metadata (2.5 kB)\n",
      "Collecting et-xmlfile (from openpyxl)\n",
      "  Using cached et_xmlfile-1.1.0-py3-none-any.whl.metadata (1.8 kB)\n",
      "Downloading openpyxl-3.1.5-py2.py3-none-any.whl (250 kB)\n",
      "Using cached et_xmlfile-1.1.0-py3-none-any.whl (4.7 kB)\n",
      "Installing collected packages: et-xmlfile, openpyxl\n",
      "Successfully installed et-xmlfile-1.1.0 openpyxl-3.1.5\n"
     ]
    }
   ],
   "source": [
    "! pip install openpyxl"
   ]
  },
  {
   "cell_type": "code",
   "execution_count": 4,
   "metadata": {},
   "outputs": [],
   "source": [
    "import openpyxl\n",
    "\n",
    "# 1. 워크북 만들기 \n",
    "wb = openpyxl.Workbook()\n",
    "\n",
    "# 2. 워크시트 만들기 \n",
    "ws = wb.create_sheet('주식정보')\n",
    "\n",
    "# 3. 데이터 추가하기\n",
    "ws['A1'] = '참가번호'\n",
    "ws['B1'] = '성명'\n",
    "ws['A2'] = 1\n",
    "ws['B2'] = '오일남'\n",
    "\n",
    "# 4. 엑셀 저장하기 \n",
    "wb.save('엑셀.xlsx')"
   ]
  },
  {
   "cell_type": "code",
   "execution_count": 5,
   "metadata": {},
   "outputs": [
    {
     "name": "stdout",
     "output_type": "stream",
     "text": [
      "56000\n",
      "20500\n",
      "49700\n"
     ]
    }
   ],
   "source": [
    "import requests\n",
    "from bs4 import BeautifulSoup\n",
    "import openpyxl\n",
    "\n",
    "# 1. 워크북 만들기 \n",
    "wb = openpyxl.Workbook()\n",
    "\n",
    "# 2. 워크시트 만들기 \n",
    "ws = wb.create_sheet('주식정보')\n",
    "\n",
    "# 회사정보 \n",
    "company = ['AAA', 'BBB', 'CCC']\n",
    "\n",
    "# 종목 코드 리스트 \n",
    "codes = ['005935', '323410', '039130']\n",
    "\n",
    "row = 1\n",
    "for code in codes:\n",
    "\n",
    "  url = f\"https://finance.naver.com/item/sise.naver?code={code}\"\n",
    "  response = requests.get(url)\n",
    "  html = response.text\n",
    "  soup = BeautifulSoup(html, 'html.parser')\n",
    "  price = soup.select_one('#_nowVal').text\n",
    "  price = price.replace(',', '')\n",
    "  print(price)\n",
    "  ws[f'A{row}'] = company[row-1]\n",
    "  ws[f'B{row}'] = int(price)\n",
    "  row += 1\n",
    "\n",
    "wb.save('주식.xlsx')"
   ]
  }
 ],
 "metadata": {
  "kernelspec": {
   "display_name": "Python 3.11.1 64-bit",
   "language": "python",
   "name": "python3"
  },
  "language_info": {
   "codemirror_mode": {
    "name": "ipython",
    "version": 3
   },
   "file_extension": ".py",
   "mimetype": "text/x-python",
   "name": "python",
   "nbconvert_exporter": "python",
   "pygments_lexer": "ipython3",
   "version": "3.12.5"
  },
  "orig_nbformat": 4,
  "vscode": {
   "interpreter": {
    "hash": "81eef19b52451e11e3f8bf6bc518dd5f147d5a651198624c9c211c83ec7c4923"
   }
  }
 },
 "nbformat": 4,
 "nbformat_minor": 2
}
