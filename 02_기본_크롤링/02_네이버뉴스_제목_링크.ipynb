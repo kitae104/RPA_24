{
 "cells": [
  {
   "cell_type": "markdown",
   "metadata": {},
   "source": [
    "네이버 뉴스 제목과 링크 크롤링"
   ]
  },
  {
   "cell_type": "code",
   "execution_count": 1,
   "metadata": {},
   "outputs": [
    {
     "name": "stdout",
     "output_type": "stream",
     "text": [
      "10\n"
     ]
    }
   ],
   "source": [
    "import requests\n",
    "from bs4 import BeautifulSoup\n",
    "\n",
    "response = requests.get(\"https://search.naver.com/search.naver?where=news&sm=tab_jum&query=%EC%9D%B8%ED%95%98%EA%B3%B5%EC%A0%84\")\n",
    "html = response.text\n",
    "soup = BeautifulSoup(html, 'html.parser')\n",
    "links = soup.select('.news_tit')          # 결과는 리스트 \n",
    "print(len(links))\n",
    "\n"
   ]
  },
  {
   "cell_type": "code",
   "execution_count": 2,
   "metadata": {},
   "outputs": [
    {
     "name": "stdout",
     "output_type": "stream",
     "text": [
      "1 인하공전, 일본 협약 학교와 12년째 전공연수 http://www.kihoilbo.co.kr/news/articleView.html?idxno=1109006\n",
      "2 인하공전 일본 협약학교 대상 방한 전공연수 프로그램 실시 http://www.veritas-a.com/news/articleView.html?idxno=519066\n",
      "3 인하공전, 日 협약교 대상 '방한 전공연수 프로그램' 운영 http://news.mt.co.kr/mtview.php?no=2024090609040638769\n",
      "4 한림성심대서 22개 전문대 입학정보 '한눈에' https://www.kwnews.co.kr/page/view/2024090517234054067\n",
      "5 [2025전문대수시특집] 'CEO가 인정한 명품대학' 인하공전 2420명(95.2%).. '... http://www.veritas-a.com/news/articleView.html?idxno=516231\n",
      "6 [인하공전] 공학계열 19개 학과 '자유전공학부' 신설…'현장중심' 교육... http://www.kyosu.net/news/articleView.html?idxno=124381\n",
      "7 인하공업전문대 등 해양레저산업 발전 협력 다자간 업무협약 https://www.joongang.co.kr/article/25273394\n",
      "8 인하공업전문대학, 2025학년도 자유전공학부 신설 https://www.donga.com/news/Society/article/all/20240828/126709252/2\n",
      "9 [2025 수시특집/인하공업전문대학] 명실상부한 국내 최고 전문기술인재... https://news.unn.net/news/articleView.html?idxno=567643\n",
      "10 인하공전, 해양레저산업 발전을 위한 다자간 업무 협약 체결 https://sports.khan.co.kr/news/sk_index.html?art_id=202408261749003&sec_id=560101&pt=nv\n"
     ]
    }
   ],
   "source": [
    "for i,link in enumerate(links):\n",
    "  title = link.text         # 텍스트 요소 \n",
    "  url = link.attrs['href']  # 속성값 \n",
    "  print(i+1,title, url)"
   ]
  }
 ],
 "metadata": {
  "kernelspec": {
   "display_name": "Python 3.11.1 64-bit",
   "language": "python",
   "name": "python3"
  },
  "language_info": {
   "codemirror_mode": {
    "name": "ipython",
    "version": 3
   },
   "file_extension": ".py",
   "mimetype": "text/x-python",
   "name": "python",
   "nbconvert_exporter": "python",
   "pygments_lexer": "ipython3",
   "version": "3.12.2"
  },
  "orig_nbformat": 4,
  "vscode": {
   "interpreter": {
    "hash": "81eef19b52451e11e3f8bf6bc518dd5f147d5a651198624c9c211c83ec7c4923"
   }
  }
 },
 "nbformat": 4,
 "nbformat_minor": 2
}
