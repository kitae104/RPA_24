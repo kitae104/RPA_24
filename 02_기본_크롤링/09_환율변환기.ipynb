{
 "cells": [
  {
   "cell_type": "code",
   "execution_count": 1,
   "metadata": {},
   "outputs": [
    {
     "name": "stdout",
     "output_type": "stream",
     "text": [
      "환율 변환기\n",
      "============\n",
      "올바른 값을 입력해주세요.\n",
      "올바른 값을 입력해주세요.\n",
      "올바른 값을 입력해주세요.\n",
      "50000.0 KRW은(는) 37.35 USD입니다.\n"
     ]
    }
   ],
   "source": [
    "# 환율 변환기 만들기 (ex : 1 USD = 1,200 KRW)\n",
    "import requests\n",
    "\n",
    "def currency_converter(amount, from_currency, to_currency):\n",
    "    # API 호출 URL\n",
    "    url = f\"https://api.exchangerate-api.com/v4/latest/{from_currency}\"\n",
    "    \n",
    "    # API 호출 및 응답 받기\n",
    "    response = requests.get(url)\n",
    "    data = response.json()\n",
    "    \n",
    "    # 환율 계산\n",
    "    exchange_rate = data['rates'][to_currency]\n",
    "    result = round(amount * exchange_rate, 2)\n",
    "    \n",
    "    # 결과 반환\n",
    "    return result\n",
    "\n",
    "\n",
    "print(\"환율 변환기\")\n",
    "print(\"============\")\n",
    "\n",
    "while True:\n",
    "    try:\n",
    "        # 변환하려는 금액 입력\n",
    "        amount = float(input(\"변환하려는 금액을 입력하세요: \"))\n",
    "        \n",
    "        # 변환하려는 화폐 입력\n",
    "        from_currency = input(\"어떤 화폐에서 변환하시겠습니까? (예: USD, KRW): \").upper()\n",
    "        to_currency = input(\"어떤 화폐로 변환하시겠습니까? (예: USD, KRW): \").upper()\n",
    "        \n",
    "        # 환율 계산\n",
    "        result = currency_converter(amount, from_currency, to_currency)\n",
    "        \n",
    "        # 결과 출력\n",
    "        print(f\"{amount} {from_currency}은(는) {result} {to_currency}입니다.\")\n",
    "        \n",
    "        # 계속 변환할지 묻기\n",
    "        choice = input(\"계속 변환하시겠습니까? (Y/N): \").upper()\n",
    "        if choice != \"Y\":\n",
    "            break\n",
    "            \n",
    "    except:\n",
    "        print(\"올바른 값을 입력해주세요.\")"
   ]
  }
 ],
 "metadata": {
  "kernelspec": {
   "display_name": "Python 3",
   "language": "python",
   "name": "python3"
  },
  "language_info": {
   "codemirror_mode": {
    "name": "ipython",
    "version": 3
   },
   "file_extension": ".py",
   "mimetype": "text/x-python",
   "name": "python",
   "nbconvert_exporter": "python",
   "pygments_lexer": "ipython3",
   "version": "3.12.5"
  }
 },
 "nbformat": 4,
 "nbformat_minor": 2
}
