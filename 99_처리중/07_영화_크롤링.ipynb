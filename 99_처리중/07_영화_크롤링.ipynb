{
 "cells": [
  {
   "cell_type": "markdown",
   "metadata": {},
   "source": [
    "다음 > 영화 순위\n",
    "\n",
    "https://search.daum.net/search?w=tot&DA=YZR&t__nil_searchbox=btn&sug=&sugo=&sq=&o=&q=%EC%98%81%ED%99%94%EC%88%9C%EC%9C%84"
   ]
  },
  {
   "cell_type": "code",
   "execution_count": 1,
   "metadata": {},
   "outputs": [
    {
     "ename": "AttributeError",
     "evalue": "'NoneType' object has no attribute 'find_all'",
     "output_type": "error",
     "traceback": [
      "\u001b[1;31m---------------------------------------------------------------------------\u001b[0m",
      "\u001b[1;31mAttributeError\u001b[0m                            Traceback (most recent call last)",
      "Cell \u001b[1;32mIn[1], line 10\u001b[0m\n\u001b[0;32m      6\u001b[0m response \u001b[38;5;241m=\u001b[39m requests\u001b[38;5;241m.\u001b[39mget(url)\n\u001b[0;32m      8\u001b[0m soup \u001b[38;5;241m=\u001b[39m BeautifulSoup(response\u001b[38;5;241m.\u001b[39mtext, \u001b[38;5;124m'\u001b[39m\u001b[38;5;124mlxml\u001b[39m\u001b[38;5;124m'\u001b[39m)\n\u001b[1;32m---> 10\u001b[0m movieInfoList \u001b[38;5;241m=\u001b[39m \u001b[43msoup\u001b[49m\u001b[38;5;241;43m.\u001b[39;49m\u001b[43mfind\u001b[49m\u001b[43m(\u001b[49m\u001b[38;5;124;43m'\u001b[39;49m\u001b[38;5;124;43mol\u001b[39;49m\u001b[38;5;124;43m'\u001b[39;49m\u001b[43m,\u001b[49m\u001b[43m \u001b[49m\u001b[43mattrs\u001b[49m\u001b[38;5;241;43m=\u001b[39;49m\u001b[43m{\u001b[49m\u001b[38;5;124;43m'\u001b[39;49m\u001b[38;5;124;43mclass\u001b[39;49m\u001b[38;5;124;43m'\u001b[39;49m\u001b[43m:\u001b[49m\u001b[38;5;124;43m'\u001b[39;49m\u001b[38;5;124;43mmovie_list\u001b[39;49m\u001b[38;5;124;43m'\u001b[39;49m\u001b[43m}\u001b[49m\u001b[43m)\u001b[49m\u001b[38;5;241;43m.\u001b[39;49m\u001b[43mfind_all\u001b[49m(\u001b[38;5;124m'\u001b[39m\u001b[38;5;124mli\u001b[39m\u001b[38;5;124m'\u001b[39m)\n\u001b[0;32m     11\u001b[0m \u001b[38;5;28mprint\u001b[39m(\u001b[38;5;28mlen\u001b[39m(movieInfoList))\n\u001b[0;32m     13\u001b[0m movieInfo \u001b[38;5;241m=\u001b[39m movieInfoList[\u001b[38;5;241m0\u001b[39m]\n",
      "\u001b[1;31mAttributeError\u001b[0m: 'NoneType' object has no attribute 'find_all'"
     ]
    }
   ],
   "source": [
    "import requests\n",
    "from bs4 import BeautifulSoup\n",
    "\n",
    "url = 'https://search.daum.net/search?nil_suggest=btn&w=tot&DA=SBC&q=%EC%98%81%ED%99%94%EC%88%9C%EC%9C%84'\n",
    "\n",
    "response = requests.get(url)\n",
    "\n",
    "soup = BeautifulSoup(response.text, 'lxml')\n",
    "\n",
    "movieInfoList = soup.find('ol', attrs={'class':'movie_list'}).find_all('li')\n",
    "print(len(movieInfoList))\n",
    "\n",
    "movieInfo = movieInfoList[0]\n",
    "\n",
    "movieRank = movieInfo.find('span', attrs={'class':'num_rank01'}).get_text()\n",
    "movieImg = movieInfo.find('img').attrs.get('src')\n",
    "movieTitle = movieInfo.find('a', attrs={'class':'tit_main'}).get_text()\n",
    "movieScore = movieInfo.find('em', attrs={'class':'rate'}).get_text()\n",
    "movieScoreCnt = movieInfo.find('a', attrs={'class':'link_count'}).get_text()\n",
    "movieTicketSales = movieInfo.find('dd', attrs={'class':'cont'}).get_text()\n",
    "movieOpenDate = movieInfo.find_all('dd', attrs={'class':'cont'})[1].get_text().strip()\n",
    "\n",
    "print(f'순위 : {movieRank}')\n",
    "print(f'이미지 : {movieImg}')\n",
    "print(f'제목 : {movieTitle}')\n",
    "print(f'점수 : {movieScore}')\n",
    "print(f'평가참여수 : {movieScoreCnt}')\n",
    "print(f'예매율 : {movieTicketSales}')\n",
    "print(f'개봉일자 : {movieOpenDate}')"
   ]
  },
  {
   "cell_type": "code",
   "execution_count": 2,
   "metadata": {},
   "outputs": [
    {
     "ename": "AttributeError",
     "evalue": "'NoneType' object has no attribute 'find_all'",
     "output_type": "error",
     "traceback": [
      "\u001b[1;31m---------------------------------------------------------------------------\u001b[0m",
      "\u001b[1;31mAttributeError\u001b[0m                            Traceback (most recent call last)",
      "Cell \u001b[1;32mIn[2], line 14\u001b[0m\n\u001b[0;32m     11\u001b[0m soup \u001b[38;5;241m=\u001b[39m BeautifulSoup(response\u001b[38;5;241m.\u001b[39mtext, \u001b[38;5;124m'\u001b[39m\u001b[38;5;124mlxml\u001b[39m\u001b[38;5;124m'\u001b[39m)\n\u001b[0;32m     13\u001b[0m \u001b[38;5;66;03m# 리스트 정보 가져오기 \u001b[39;00m\n\u001b[1;32m---> 14\u001b[0m movieInfoList \u001b[38;5;241m=\u001b[39m \u001b[43msoup\u001b[49m\u001b[38;5;241;43m.\u001b[39;49m\u001b[43mfind\u001b[49m\u001b[43m(\u001b[49m\u001b[38;5;124;43m'\u001b[39;49m\u001b[38;5;124;43mol\u001b[39;49m\u001b[38;5;124;43m'\u001b[39;49m\u001b[43m,\u001b[49m\u001b[43m \u001b[49m\u001b[43mattrs\u001b[49m\u001b[38;5;241;43m=\u001b[39;49m\u001b[43m{\u001b[49m\u001b[38;5;124;43m'\u001b[39;49m\u001b[38;5;124;43mclass\u001b[39;49m\u001b[38;5;124;43m'\u001b[39;49m\u001b[43m:\u001b[49m\u001b[38;5;124;43m'\u001b[39;49m\u001b[38;5;124;43mmovie_list\u001b[39;49m\u001b[38;5;124;43m'\u001b[39;49m\u001b[43m}\u001b[49m\u001b[43m)\u001b[49m\u001b[38;5;241;43m.\u001b[39;49m\u001b[43mfind_all\u001b[49m(\u001b[38;5;124m'\u001b[39m\u001b[38;5;124mli\u001b[39m\u001b[38;5;124m'\u001b[39m)\n\u001b[0;32m     16\u001b[0m \u001b[38;5;28;01mfor\u001b[39;00m movieInfo \u001b[38;5;129;01min\u001b[39;00m movieInfoList:\n\u001b[0;32m     17\u001b[0m \tmovieRank \u001b[38;5;241m=\u001b[39m movieInfo\u001b[38;5;241m.\u001b[39mfind(\u001b[38;5;124m'\u001b[39m\u001b[38;5;124mspan\u001b[39m\u001b[38;5;124m'\u001b[39m, attrs\u001b[38;5;241m=\u001b[39m{\u001b[38;5;124m'\u001b[39m\u001b[38;5;124mclass\u001b[39m\u001b[38;5;124m'\u001b[39m:\u001b[38;5;124mf\u001b[39m\u001b[38;5;124m'\u001b[39m\u001b[38;5;124mimg_number\u001b[39m\u001b[38;5;124m'\u001b[39m})\n",
      "\u001b[1;31mAttributeError\u001b[0m: 'NoneType' object has no attribute 'find_all'"
     ]
    }
   ],
   "source": [
    "import requests\n",
    "from bs4 import BeautifulSoup\n",
    "\n",
    "url = 'https://search.daum.net/search?nil_suggest=btn&w=tot&DA=SBC&q=%EC%98%81%ED%99%94%EC%88%9C%EC%9C%84'\n",
    "headers = {\n",
    "\t'User-Agent':'Mozilla/5.0 (Windows NT 10.0; WOW64) AppleWebKit/537.36 (KHTML, like Gecko) Chrome/96.0.4664.45 Safari/537.36'\n",
    "}\n",
    "\n",
    "response = requests.get(url, headers=headers)\n",
    "\n",
    "soup = BeautifulSoup(response.text, 'lxml')\n",
    "\n",
    "# 리스트 정보 가져오기 \n",
    "movieInfoList = soup.find('ol', attrs={'class':'movie_list'}).find_all('li')\n",
    "\n",
    "for movieInfo in movieInfoList:\n",
    "\tmovieRank = movieInfo.find('span', attrs={'class':f'img_number'})\n",
    "\tmovieImg = movieInfo.find('img')\n",
    "\tmovieTitle = movieInfo.find('a', attrs={'class':'tit_main'})\n",
    "\tmovieScore = movieInfo.find('em', attrs={'class':'rate'})\n",
    "\tmovieScoreCnt = movieInfo.find('a', attrs={'class':'link_count'})\n",
    "\tticketSalesAndOpenDate = movieInfo.find_all('dd', attrs={'class':'cont'})\n",
    "\tif len(ticketSalesAndOpenDate) > 1:\n",
    "\t\tmovieTicketSales = ticketSalesAndOpenDate[0]\n",
    "\t\tmovieOpenDate = ticketSalesAndOpenDate[1]\n",
    "\telse: # 개봉일자가 없을 경우\n",
    "\t\tmovieTicketSales = ticketSalesAndOpenDate[0]\n",
    "\n",
    "\tprint(f'순위 : {movieRank.get_text() if movieRank else \"X\"}')\n",
    "\tprint('이미지 : {}'.format(movieImg['src'] if movieImg else \"X\"))\n",
    "\tprint(f'제목 : {movieTitle.get_text() if movieTitle else \"X\"}')\n",
    "\tprint(f'점수 : {movieScore.get_text() if movieScore else \"X\"}')\n",
    "\tprint(f'평가참여수 : {movieScoreCnt.get_text() if movieScoreCnt else \"X\"}')\n",
    "\tprint(f'예매율 : {movieTicketSales.get_text() if movieTicketSales else \"X\"}')\n",
    "\tprint(f'개봉일자 : {movieOpenDate.get_text().strip() if movieOpenDate else \"X\"}')\n",
    "  "
   ]
  },
  {
   "cell_type": "code",
   "execution_count": 4,
   "metadata": {},
   "outputs": [],
   "source": [
    "import requests\n",
    "from bs4 import BeautifulSoup\n",
    "\n",
    "url = 'https://search.daum.net/search?nil_suggest=btn&w=tot&DA=SBC&q=%EC%98%81%ED%99%94%EC%88%9C%EC%9C%84'\n",
    "headers = {\n",
    "\t'User-Agent':'Mozilla/5.0 (Windows NT 10.0; WOW64) AppleWebKit/537.36 (KHTML, like Gecko) Chrome/96.0.4664.45 Safari/537.36'\n",
    "}\n",
    "\n",
    "response = requests.get(url, headers=headers)\n",
    "\n",
    "soup = BeautifulSoup(response.text, 'lxml')\n",
    "\n",
    "movieInfoList = soup.find('ol', attrs={'class':'movie_list'}).find_all('li')\n",
    "\n",
    "for movieInfo in movieInfoList:\n",
    "\tmovieRank = movieInfo.find('span', attrs={'class':f'img_number'}).get_text()\n",
    "\tmovieImg = movieInfo.find('img')['src']\n",
    "\tmovieTitle = movieInfo.find('a', attrs={'class':'tit_main'}).get_text().replace(':', '')\n",
    "\n",
    "\timgSrc = requests.get(movieImg, headers=headers)\n",
    "\twith open(f'{movieRank}-{movieTitle[:5]}.jfif', 'wb') as imgFile:\n",
    "\t\timgFile.write(imgSrc.content)"
   ]
  }
 ],
 "metadata": {
  "kernelspec": {
   "display_name": "Python 3.11.1 64-bit",
   "language": "python",
   "name": "python3"
  },
  "language_info": {
   "codemirror_mode": {
    "name": "ipython",
    "version": 3
   },
   "file_extension": ".py",
   "mimetype": "text/x-python",
   "name": "python",
   "nbconvert_exporter": "python",
   "pygments_lexer": "ipython3",
   "version": "3.12.2"
  },
  "orig_nbformat": 4,
  "vscode": {
   "interpreter": {
    "hash": "81eef19b52451e11e3f8bf6bc518dd5f147d5a651198624c9c211c83ec7c4923"
   }
  }
 },
 "nbformat": 4,
 "nbformat_minor": 2
}
