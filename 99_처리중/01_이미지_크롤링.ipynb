{
 "cells": [
  {
   "attachments": {},
   "cell_type": "markdown",
   "metadata": {},
   "source": [
    "### 이미지 크롤링"
   ]
  },
  {
   "attachments": {},
   "cell_type": "markdown",
   "metadata": {},
   "source": [
    "- https://github.com/joedockrill/jmd_imagescraper\n",
    "- 검색 사이트 : https://duckduckgo.com/\n",
    "- pip install jmd_imagescraper\n",
    "- 사용법 보여주기\n"
   ]
  },
  {
   "attachments": {},
   "cell_type": "markdown",
   "metadata": {},
   "source": [
    "다음은 jmd_imagescraper 라이브러리의 사용법입니다.  \n",
    "\n",
    "from jmd_imagescraper.core import * # dont't worry, it's designed to work with import *\n",
    "from pathlib import Path\n",
    "\n",
    "root = Path().cwd()/\"images\"\n",
    "\n",
    "duckduckgo_search(root, \"Cats\", \"cute kittens\", max_results=20)\n",
    "\n",
    "\n",
    "jmd_imagescraper 라이브러리를 이용해서 bts라고 검색하면 나오는 이미지들을 저장하는 파이썬 코드를 작성해줘"
   ]
  },
  {
   "cell_type": "code",
   "execution_count": 4,
   "metadata": {},
   "outputs": [
    {
     "name": "stdout",
     "output_type": "stream",
     "text": [
      "Requirement already satisfied: jmd_imagescraper in d:\\github\\rpa_ws\\rpa_24\\rpaenv\\lib\\site-packages (1.0.2)\n",
      "Requirement already satisfied: Pillow in d:\\github\\rpa_ws\\rpa_24\\rpaenv\\lib\\site-packages (from jmd_imagescraper) (10.4.0)\n",
      "Requirement already satisfied: bs4 in d:\\github\\rpa_ws\\rpa_24\\rpaenv\\lib\\site-packages (from jmd_imagescraper) (0.0.2)\n",
      "Requirement already satisfied: fastprogress in d:\\github\\rpa_ws\\rpa_24\\rpaenv\\lib\\site-packages (from jmd_imagescraper) (1.0.3)\n",
      "Requirement already satisfied: ipywidgets in d:\\github\\rpa_ws\\rpa_24\\rpaenv\\lib\\site-packages (from jmd_imagescraper) (8.1.5)\n",
      "Requirement already satisfied: pandas in d:\\github\\rpa_ws\\rpa_24\\rpaenv\\lib\\site-packages (from jmd_imagescraper) (2.2.2)\n",
      "Requirement already satisfied: pathlib in d:\\github\\rpa_ws\\rpa_24\\rpaenv\\lib\\site-packages (from jmd_imagescraper) (1.0.1)\n",
      "Requirement already satisfied: requests in d:\\github\\rpa_ws\\rpa_24\\rpaenv\\lib\\site-packages (from jmd_imagescraper) (2.32.3)\n",
      "Requirement already satisfied: beautifulsoup4 in d:\\github\\rpa_ws\\rpa_24\\rpaenv\\lib\\site-packages (from bs4->jmd_imagescraper) (4.12.3)\n",
      "Requirement already satisfied: comm>=0.1.3 in d:\\github\\rpa_ws\\rpa_24\\rpaenv\\lib\\site-packages (from ipywidgets->jmd_imagescraper) (0.2.2)\n",
      "Requirement already satisfied: ipython>=6.1.0 in d:\\github\\rpa_ws\\rpa_24\\rpaenv\\lib\\site-packages (from ipywidgets->jmd_imagescraper) (8.27.0)\n",
      "Requirement already satisfied: traitlets>=4.3.1 in d:\\github\\rpa_ws\\rpa_24\\rpaenv\\lib\\site-packages (from ipywidgets->jmd_imagescraper) (5.14.3)\n",
      "Requirement already satisfied: widgetsnbextension~=4.0.12 in d:\\github\\rpa_ws\\rpa_24\\rpaenv\\lib\\site-packages (from ipywidgets->jmd_imagescraper) (4.0.13)\n",
      "Requirement already satisfied: jupyterlab-widgets~=3.0.12 in d:\\github\\rpa_ws\\rpa_24\\rpaenv\\lib\\site-packages (from ipywidgets->jmd_imagescraper) (3.0.13)\n",
      "Requirement already satisfied: numpy>=1.26.0 in d:\\github\\rpa_ws\\rpa_24\\rpaenv\\lib\\site-packages (from pandas->jmd_imagescraper) (2.1.1)\n",
      "Requirement already satisfied: python-dateutil>=2.8.2 in d:\\github\\rpa_ws\\rpa_24\\rpaenv\\lib\\site-packages (from pandas->jmd_imagescraper) (2.9.0.post0)\n",
      "Requirement already satisfied: pytz>=2020.1 in d:\\github\\rpa_ws\\rpa_24\\rpaenv\\lib\\site-packages (from pandas->jmd_imagescraper) (2024.1)\n",
      "Requirement already satisfied: tzdata>=2022.7 in d:\\github\\rpa_ws\\rpa_24\\rpaenv\\lib\\site-packages (from pandas->jmd_imagescraper) (2024.1)\n",
      "Requirement already satisfied: charset-normalizer<4,>=2 in d:\\github\\rpa_ws\\rpa_24\\rpaenv\\lib\\site-packages (from requests->jmd_imagescraper) (3.3.2)\n",
      "Requirement already satisfied: idna<4,>=2.5 in d:\\github\\rpa_ws\\rpa_24\\rpaenv\\lib\\site-packages (from requests->jmd_imagescraper) (3.8)\n",
      "Requirement already satisfied: urllib3<3,>=1.21.1 in d:\\github\\rpa_ws\\rpa_24\\rpaenv\\lib\\site-packages (from requests->jmd_imagescraper) (2.2.2)\n",
      "Requirement already satisfied: certifi>=2017.4.17 in d:\\github\\rpa_ws\\rpa_24\\rpaenv\\lib\\site-packages (from requests->jmd_imagescraper) (2024.8.30)\n",
      "Requirement already satisfied: decorator in d:\\github\\rpa_ws\\rpa_24\\rpaenv\\lib\\site-packages (from ipython>=6.1.0->ipywidgets->jmd_imagescraper) (5.1.1)\n",
      "Requirement already satisfied: jedi>=0.16 in d:\\github\\rpa_ws\\rpa_24\\rpaenv\\lib\\site-packages (from ipython>=6.1.0->ipywidgets->jmd_imagescraper) (0.19.1)\n",
      "Requirement already satisfied: matplotlib-inline in d:\\github\\rpa_ws\\rpa_24\\rpaenv\\lib\\site-packages (from ipython>=6.1.0->ipywidgets->jmd_imagescraper) (0.1.7)\n",
      "Requirement already satisfied: prompt-toolkit<3.1.0,>=3.0.41 in d:\\github\\rpa_ws\\rpa_24\\rpaenv\\lib\\site-packages (from ipython>=6.1.0->ipywidgets->jmd_imagescraper) (3.0.47)\n",
      "Requirement already satisfied: pygments>=2.4.0 in d:\\github\\rpa_ws\\rpa_24\\rpaenv\\lib\\site-packages (from ipython>=6.1.0->ipywidgets->jmd_imagescraper) (2.18.0)\n",
      "Requirement already satisfied: stack-data in d:\\github\\rpa_ws\\rpa_24\\rpaenv\\lib\\site-packages (from ipython>=6.1.0->ipywidgets->jmd_imagescraper) (0.6.3)\n",
      "Requirement already satisfied: colorama in d:\\github\\rpa_ws\\rpa_24\\rpaenv\\lib\\site-packages (from ipython>=6.1.0->ipywidgets->jmd_imagescraper) (0.4.6)\n",
      "Requirement already satisfied: six>=1.5 in d:\\github\\rpa_ws\\rpa_24\\rpaenv\\lib\\site-packages (from python-dateutil>=2.8.2->pandas->jmd_imagescraper) (1.16.0)\n",
      "Requirement already satisfied: soupsieve>1.2 in d:\\github\\rpa_ws\\rpa_24\\rpaenv\\lib\\site-packages (from beautifulsoup4->bs4->jmd_imagescraper) (2.6)\n",
      "Requirement already satisfied: parso<0.9.0,>=0.8.3 in d:\\github\\rpa_ws\\rpa_24\\rpaenv\\lib\\site-packages (from jedi>=0.16->ipython>=6.1.0->ipywidgets->jmd_imagescraper) (0.8.4)\n",
      "Requirement already satisfied: wcwidth in d:\\github\\rpa_ws\\rpa_24\\rpaenv\\lib\\site-packages (from prompt-toolkit<3.1.0,>=3.0.41->ipython>=6.1.0->ipywidgets->jmd_imagescraper) (0.2.13)\n",
      "Requirement already satisfied: executing>=1.2.0 in d:\\github\\rpa_ws\\rpa_24\\rpaenv\\lib\\site-packages (from stack-data->ipython>=6.1.0->ipywidgets->jmd_imagescraper) (2.1.0)\n",
      "Requirement already satisfied: asttokens>=2.1.0 in d:\\github\\rpa_ws\\rpa_24\\rpaenv\\lib\\site-packages (from stack-data->ipython>=6.1.0->ipywidgets->jmd_imagescraper) (2.4.1)\n",
      "Requirement already satisfied: pure-eval in d:\\github\\rpa_ws\\rpa_24\\rpaenv\\lib\\site-packages (from stack-data->ipython>=6.1.0->ipywidgets->jmd_imagescraper) (0.2.3)\n",
      "Note: you may need to restart the kernel to use updated packages.\n"
     ]
    }
   ],
   "source": [
    "pip install --upgrade jmd_imagescraper"
   ]
  },
  {
   "cell_type": "code",
   "execution_count": 5,
   "metadata": {},
   "outputs": [
    {
     "ename": "NameError",
     "evalue": "name 'search_google' is not defined",
     "output_type": "error",
     "traceback": [
      "\u001b[1;31m---------------------------------------------------------------------------\u001b[0m",
      "\u001b[1;31mNameError\u001b[0m                                 Traceback (most recent call last)",
      "Cell \u001b[1;32mIn[5], line 11\u001b[0m\n\u001b[0;32m      8\u001b[0m root\u001b[38;5;241m.\u001b[39mmkdir(parents\u001b[38;5;241m=\u001b[39m\u001b[38;5;28;01mTrue\u001b[39;00m, exist_ok\u001b[38;5;241m=\u001b[39m\u001b[38;5;28;01mTrue\u001b[39;00m)\n\u001b[0;32m     10\u001b[0m \u001b[38;5;66;03m# 'BTS'로 검색된 이미지를 크롤링하여 다운로드 (Google 이미지 검색 사용)\u001b[39;00m\n\u001b[1;32m---> 11\u001b[0m \u001b[43msearch_google\u001b[49m(root, \u001b[38;5;124m\"\u001b[39m\u001b[38;5;124mBTS\u001b[39m\u001b[38;5;124m\"\u001b[39m, \u001b[38;5;124m\"\u001b[39m\u001b[38;5;124mBTS\u001b[39m\u001b[38;5;124m\"\u001b[39m, max_results\u001b[38;5;241m=\u001b[39m\u001b[38;5;241m20\u001b[39m)\n",
      "\u001b[1;31mNameError\u001b[0m: name 'search_google' is not defined"
     ]
    }
   ],
   "source": [
    "from pathlib import Path\n",
    "from jmd_imagescraper.core import *\n",
    "\n",
    "# 이미지 저장할 폴더 경로 설정\n",
    "root = Path().cwd() / \"images\"\n",
    "\n",
    "# 폴더가 존재하지 않으면 생성\n",
    "root.mkdir(parents=True, exist_ok=True)\n",
    "\n",
    "# 'BTS'로 검색된 이미지를 크롤링하여 다운로드 (Google 이미지 검색 사용)\n",
    "search_google(root, \"BTS\", \"BTS\", max_results=20)\n",
    "\n"
   ]
  },
  {
   "cell_type": "code",
   "execution_count": 6,
   "metadata": {},
   "outputs": [],
   "source": [
    "import os\n",
    "import time\n",
    "import requests\n",
    "from selenium import webdriver\n",
    "from selenium.webdriver.common.by import By\n",
    "from selenium.webdriver.common.keys import Keys\n",
    "from selenium.webdriver.chrome.service import Service\n",
    "from webdriver_manager.chrome import ChromeDriverManager\n",
    "from pathlib import Path\n",
    "\n",
    "# 이미지 저장할 폴더 경로 설정\n",
    "root = Path().cwd() / \"images\"\n",
    "root.mkdir(parents=True, exist_ok=True)\n",
    "\n",
    "# Selenium을 이용한 Google 이미지 검색\n",
    "def google_image_search(query, max_images=20):\n",
    "    driver = webdriver.Chrome(service=Service(ChromeDriverManager().install()))\n",
    "    driver.get('https://www.google.com/imghp')\n",
    "    \n",
    "    # 검색창에 검색어 입력\n",
    "    search_box = driver.find_element(By.NAME, \"q\")\n",
    "    search_box.send_keys(query)\n",
    "    search_box.send_keys(Keys.RETURN)\n",
    "    \n",
    "    # 스크롤을 내려서 이미지를 더 로드\n",
    "    for _ in range(3):\n",
    "        driver.execute_script(\"window.scrollTo(0, document.body.scrollHeight);\")\n",
    "        time.sleep(2)\n",
    "    \n",
    "    # 이미지 찾기\n",
    "    image_elements = driver.find_elements(By.CSS_SELECTOR, 'img.rg_i')\n",
    "\n",
    "    img_urls = []\n",
    "    for img in image_elements[:max_images]:\n",
    "        try:\n",
    "            img.click()\n",
    "            time.sleep(2)\n",
    "            big_img = driver.find_element(By.CSS_SELECTOR, 'img.n3VNCb')\n",
    "            img_url = big_img.get_attribute('src')\n",
    "            if img_url.startswith('http'):\n",
    "                img_urls.append(img_url)\n",
    "        except:\n",
    "            continue\n",
    "\n",
    "    driver.quit()\n",
    "    return img_urls\n",
    "\n",
    "# 이미지 다운로드 함수\n",
    "def download_images(image_urls, folder):\n",
    "    for i, url in enumerate(image_urls):\n",
    "        response = requests.get(url)\n",
    "        file_path = folder / f\"img_{i+1}.jpg\"\n",
    "        with open(file_path, \"wb\") as file:\n",
    "            file.write(response.content)\n",
    "\n",
    "# 'BTS'로 Google 이미지 검색 후 다운로드\n",
    "image_urls = google_image_search(\"BTS\", max_images=20)\n",
    "download_images(image_urls, root)"
   ]
  },
  {
   "attachments": {},
   "cell_type": "markdown",
   "metadata": {},
   "source": [
    "images 폴더를 zip 파일로 압축하는 파이썬 코드를 작성해줘"
   ]
  },
  {
   "cell_type": "code",
   "execution_count": null,
   "metadata": {},
   "outputs": [],
   "source": [
    "import zipfile\n",
    "import os\n",
    "\n",
    "# Name of the folder to compress\n",
    "folder_name = 'images'\n",
    "\n",
    "# Name of the zip file to create\n",
    "zip_name = 'compressed_images.zip'\n",
    "\n",
    "# Create a ZipFile object with the name of the zip file and mode='w' to write to it\n",
    "with zipfile.ZipFile(zip_name, 'w') as zip_obj:\n",
    "    \n",
    "    # Iterate over all files in the folder\n",
    "    for foldername, subfolders, filenames in os.walk(folder_name):\n",
    "        for filename in filenames:\n",
    "            \n",
    "            # Create the full file path by joining the folder name and the filename\n",
    "            file_path = os.path.join(foldername, filename)\n",
    "            \n",
    "            # Add the file to the zip file using the relative path\n",
    "            zip_obj.write(file_path, arcname=os.path.relpath(file_path, folder_name))\n"
   ]
  }
 ],
 "metadata": {
  "kernelspec": {
   "display_name": "Python 3.11.1 64-bit",
   "language": "python",
   "name": "python3"
  },
  "language_info": {
   "codemirror_mode": {
    "name": "ipython",
    "version": 3
   },
   "file_extension": ".py",
   "mimetype": "text/x-python",
   "name": "python",
   "nbconvert_exporter": "python",
   "pygments_lexer": "ipython3",
   "version": "3.12.2"
  },
  "orig_nbformat": 4,
  "vscode": {
   "interpreter": {
    "hash": "81eef19b52451e11e3f8bf6bc518dd5f147d5a651198624c9c211c83ec7c4923"
   }
  }
 },
 "nbformat": 4,
 "nbformat_minor": 2
}
